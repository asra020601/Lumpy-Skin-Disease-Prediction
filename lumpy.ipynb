{
  "cells": [
    {
      "cell_type": "markdown",
      "metadata": {
        "id": "Q41CPxAxw4R7"
      },
      "source": [
        "cld : Monthly Cloud Cover in percent\n",
        "\n",
        "dtr : Diurnal Temperature Range in degrees\n",
        "Celsius\n",
        "\n",
        "frs : frost day frequency in a month\n",
        "\n",
        "pet : potential evapotranspiration in\n",
        "millimeters per day\n",
        "\n",
        "pre : Precipitation is any product of the\n",
        "condensation of water vapor in the\n",
        "atmosphere in millimeters per month\n",
        "\n",
        "tmn : daily mean temperature in degrees\n",
        "Celsius\n",
        "\n",
        "tmp : Temperature in degrees Celsius\n",
        "\n",
        "tmx : monthly average maximum and\n",
        "minimum temperature in degrees\n",
        "Celsius\n",
        "\n",
        "vape : vapor pressureis in hectopascals\n",
        "\n",
        "wet : wet day frequency in days\n",
        "\n",
        "x : longitude x axis spatial coordinates\n",
        "\n",
        "y : latitude y-axis spatial coordinate\n",
        "\n",
        "Region : the continent of the outbreak\n",
        "\n",
        "country : country of outbreak\n",
        "\n",
        "Reportingdate\n",
        ": reporting date of outbreak\n",
        "\n",
        "elevation : altitude of geographic location in\n",
        "meters\n",
        "\n",
        "dominant_landcover: dominant land cover\n",
        "\n",
        "X5_Ct_2010_Da: quick view GIS file of dasymetriccattle\n",
        "\n",
        "X5_Bf_2010_Da: quick view of GIS files from dasymetric buffalo\n",
        "\n",
        "lumpy : classification of whether infected with\n",
        "\n",
        "LSD code: 1, not infected with code: 0"
      ]
    },
    {
      "cell_type": "markdown",
      "metadata": {},
      "source": [
        "Loading important libraries."
      ]
    },
    {
      "cell_type": "code",
      "execution_count": 1,
      "metadata": {
        "id": "4ZWuWgkOrg4m"
      },
      "outputs": [
        {
          "ename": "ModuleNotFoundError",
          "evalue": "No module named 'plotly'",
          "output_type": "error",
          "traceback": [
            "\u001b[1;31m---------------------------------------------------------------------------\u001b[0m",
            "\u001b[1;31mModuleNotFoundError\u001b[0m                       Traceback (most recent call last)",
            "Cell \u001b[1;32mIn[1], line 7\u001b[0m\n\u001b[0;32m      5\u001b[0m \u001b[39mimport\u001b[39;00m \u001b[39mmatplotlib\u001b[39;00m\u001b[39m.\u001b[39;00m\u001b[39mpyplot\u001b[39;00m \u001b[39mas\u001b[39;00m \u001b[39mplt\u001b[39;00m\n\u001b[0;32m      6\u001b[0m \u001b[39mimport\u001b[39;00m \u001b[39mseaborn\u001b[39;00m \u001b[39mas\u001b[39;00m \u001b[39msns\u001b[39;00m\n\u001b[1;32m----> 7\u001b[0m \u001b[39mimport\u001b[39;00m \u001b[39mplotly\u001b[39;00m\u001b[39m.\u001b[39;00m\u001b[39mexpress\u001b[39;00m \u001b[39mas\u001b[39;00m \u001b[39mpx\u001b[39;00m\n\u001b[0;32m      8\u001b[0m \u001b[39mimport\u001b[39;00m \u001b[39mmissingno\u001b[39;00m \u001b[39mas\u001b[39;00m \u001b[39mmsno\u001b[39;00m\n",
            "\u001b[1;31mModuleNotFoundError\u001b[0m: No module named 'plotly'"
          ]
        }
      ],
      "source": [
        "import warnings\n",
        "warnings.filterwarnings(\"ignore\")\n",
        "import numpy as np\n",
        "import pandas as pd\n",
        "import matplotlib.pyplot as plt\n",
        "import seaborn as sns\n",
        "import plotly.express as px\n",
        "import missingno as msno"
      ]
    },
    {
      "cell_type": "markdown",
      "metadata": {},
      "source": [
        "We load the given the dataset."
      ]
    },
    {
      "cell_type": "code",
      "execution_count": 3,
      "metadata": {},
      "outputs": [
        {
          "ename": "FileNotFoundError",
          "evalue": "[Errno 2] No such file or directory: '/content/Lumpy skin disease data.csv'",
          "output_type": "error",
          "traceback": [
            "\u001b[1;31m---------------------------------------------------------------------------\u001b[0m",
            "\u001b[1;31mFileNotFoundError\u001b[0m                         Traceback (most recent call last)",
            "Cell \u001b[1;32mIn[3], line 1\u001b[0m\n\u001b[1;32m----> 1\u001b[0m df \u001b[39m=\u001b[39m pd\u001b[39m.\u001b[39;49mread_csv(\u001b[39m'\u001b[39;49m\u001b[39m/content/Lumpy skin disease data.csv\u001b[39;49m\u001b[39m'\u001b[39;49m)\n",
            "File \u001b[1;32m~\\AppData\\Local\\Packages\\PythonSoftwareFoundation.Python.3.11_qbz5n2kfra8p0\\LocalCache\\local-packages\\Python311\\site-packages\\pandas\\io\\parsers\\readers.py:912\u001b[0m, in \u001b[0;36mread_csv\u001b[1;34m(filepath_or_buffer, sep, delimiter, header, names, index_col, usecols, dtype, engine, converters, true_values, false_values, skipinitialspace, skiprows, skipfooter, nrows, na_values, keep_default_na, na_filter, verbose, skip_blank_lines, parse_dates, infer_datetime_format, keep_date_col, date_parser, date_format, dayfirst, cache_dates, iterator, chunksize, compression, thousands, decimal, lineterminator, quotechar, quoting, doublequote, escapechar, comment, encoding, encoding_errors, dialect, on_bad_lines, delim_whitespace, low_memory, memory_map, float_precision, storage_options, dtype_backend)\u001b[0m\n\u001b[0;32m    899\u001b[0m kwds_defaults \u001b[39m=\u001b[39m _refine_defaults_read(\n\u001b[0;32m    900\u001b[0m     dialect,\n\u001b[0;32m    901\u001b[0m     delimiter,\n\u001b[1;32m   (...)\u001b[0m\n\u001b[0;32m    908\u001b[0m     dtype_backend\u001b[39m=\u001b[39mdtype_backend,\n\u001b[0;32m    909\u001b[0m )\n\u001b[0;32m    910\u001b[0m kwds\u001b[39m.\u001b[39mupdate(kwds_defaults)\n\u001b[1;32m--> 912\u001b[0m \u001b[39mreturn\u001b[39;00m _read(filepath_or_buffer, kwds)\n",
            "File \u001b[1;32m~\\AppData\\Local\\Packages\\PythonSoftwareFoundation.Python.3.11_qbz5n2kfra8p0\\LocalCache\\local-packages\\Python311\\site-packages\\pandas\\io\\parsers\\readers.py:577\u001b[0m, in \u001b[0;36m_read\u001b[1;34m(filepath_or_buffer, kwds)\u001b[0m\n\u001b[0;32m    574\u001b[0m _validate_names(kwds\u001b[39m.\u001b[39mget(\u001b[39m\"\u001b[39m\u001b[39mnames\u001b[39m\u001b[39m\"\u001b[39m, \u001b[39mNone\u001b[39;00m))\n\u001b[0;32m    576\u001b[0m \u001b[39m# Create the parser.\u001b[39;00m\n\u001b[1;32m--> 577\u001b[0m parser \u001b[39m=\u001b[39m TextFileReader(filepath_or_buffer, \u001b[39m*\u001b[39;49m\u001b[39m*\u001b[39;49mkwds)\n\u001b[0;32m    579\u001b[0m \u001b[39mif\u001b[39;00m chunksize \u001b[39mor\u001b[39;00m iterator:\n\u001b[0;32m    580\u001b[0m     \u001b[39mreturn\u001b[39;00m parser\n",
            "File \u001b[1;32m~\\AppData\\Local\\Packages\\PythonSoftwareFoundation.Python.3.11_qbz5n2kfra8p0\\LocalCache\\local-packages\\Python311\\site-packages\\pandas\\io\\parsers\\readers.py:1407\u001b[0m, in \u001b[0;36mTextFileReader.__init__\u001b[1;34m(self, f, engine, **kwds)\u001b[0m\n\u001b[0;32m   1404\u001b[0m     \u001b[39mself\u001b[39m\u001b[39m.\u001b[39moptions[\u001b[39m\"\u001b[39m\u001b[39mhas_index_names\u001b[39m\u001b[39m\"\u001b[39m] \u001b[39m=\u001b[39m kwds[\u001b[39m\"\u001b[39m\u001b[39mhas_index_names\u001b[39m\u001b[39m\"\u001b[39m]\n\u001b[0;32m   1406\u001b[0m \u001b[39mself\u001b[39m\u001b[39m.\u001b[39mhandles: IOHandles \u001b[39m|\u001b[39m \u001b[39mNone\u001b[39;00m \u001b[39m=\u001b[39m \u001b[39mNone\u001b[39;00m\n\u001b[1;32m-> 1407\u001b[0m \u001b[39mself\u001b[39m\u001b[39m.\u001b[39m_engine \u001b[39m=\u001b[39m \u001b[39mself\u001b[39;49m\u001b[39m.\u001b[39;49m_make_engine(f, \u001b[39mself\u001b[39;49m\u001b[39m.\u001b[39;49mengine)\n",
            "File \u001b[1;32m~\\AppData\\Local\\Packages\\PythonSoftwareFoundation.Python.3.11_qbz5n2kfra8p0\\LocalCache\\local-packages\\Python311\\site-packages\\pandas\\io\\parsers\\readers.py:1661\u001b[0m, in \u001b[0;36mTextFileReader._make_engine\u001b[1;34m(self, f, engine)\u001b[0m\n\u001b[0;32m   1659\u001b[0m     \u001b[39mif\u001b[39;00m \u001b[39m\"\u001b[39m\u001b[39mb\u001b[39m\u001b[39m\"\u001b[39m \u001b[39mnot\u001b[39;00m \u001b[39min\u001b[39;00m mode:\n\u001b[0;32m   1660\u001b[0m         mode \u001b[39m+\u001b[39m\u001b[39m=\u001b[39m \u001b[39m\"\u001b[39m\u001b[39mb\u001b[39m\u001b[39m\"\u001b[39m\n\u001b[1;32m-> 1661\u001b[0m \u001b[39mself\u001b[39m\u001b[39m.\u001b[39mhandles \u001b[39m=\u001b[39m get_handle(\n\u001b[0;32m   1662\u001b[0m     f,\n\u001b[0;32m   1663\u001b[0m     mode,\n\u001b[0;32m   1664\u001b[0m     encoding\u001b[39m=\u001b[39;49m\u001b[39mself\u001b[39;49m\u001b[39m.\u001b[39;49moptions\u001b[39m.\u001b[39;49mget(\u001b[39m\"\u001b[39;49m\u001b[39mencoding\u001b[39;49m\u001b[39m\"\u001b[39;49m, \u001b[39mNone\u001b[39;49;00m),\n\u001b[0;32m   1665\u001b[0m     compression\u001b[39m=\u001b[39;49m\u001b[39mself\u001b[39;49m\u001b[39m.\u001b[39;49moptions\u001b[39m.\u001b[39;49mget(\u001b[39m\"\u001b[39;49m\u001b[39mcompression\u001b[39;49m\u001b[39m\"\u001b[39;49m, \u001b[39mNone\u001b[39;49;00m),\n\u001b[0;32m   1666\u001b[0m     memory_map\u001b[39m=\u001b[39;49m\u001b[39mself\u001b[39;49m\u001b[39m.\u001b[39;49moptions\u001b[39m.\u001b[39;49mget(\u001b[39m\"\u001b[39;49m\u001b[39mmemory_map\u001b[39;49m\u001b[39m\"\u001b[39;49m, \u001b[39mFalse\u001b[39;49;00m),\n\u001b[0;32m   1667\u001b[0m     is_text\u001b[39m=\u001b[39;49mis_text,\n\u001b[0;32m   1668\u001b[0m     errors\u001b[39m=\u001b[39;49m\u001b[39mself\u001b[39;49m\u001b[39m.\u001b[39;49moptions\u001b[39m.\u001b[39;49mget(\u001b[39m\"\u001b[39;49m\u001b[39mencoding_errors\u001b[39;49m\u001b[39m\"\u001b[39;49m, \u001b[39m\"\u001b[39;49m\u001b[39mstrict\u001b[39;49m\u001b[39m\"\u001b[39;49m),\n\u001b[0;32m   1669\u001b[0m     storage_options\u001b[39m=\u001b[39;49m\u001b[39mself\u001b[39;49m\u001b[39m.\u001b[39;49moptions\u001b[39m.\u001b[39;49mget(\u001b[39m\"\u001b[39;49m\u001b[39mstorage_options\u001b[39;49m\u001b[39m\"\u001b[39;49m, \u001b[39mNone\u001b[39;49;00m),\n\u001b[0;32m   1670\u001b[0m )\n\u001b[0;32m   1671\u001b[0m \u001b[39massert\u001b[39;00m \u001b[39mself\u001b[39m\u001b[39m.\u001b[39mhandles \u001b[39mis\u001b[39;00m \u001b[39mnot\u001b[39;00m \u001b[39mNone\u001b[39;00m\n\u001b[0;32m   1672\u001b[0m f \u001b[39m=\u001b[39m \u001b[39mself\u001b[39m\u001b[39m.\u001b[39mhandles\u001b[39m.\u001b[39mhandle\n",
            "File \u001b[1;32m~\\AppData\\Local\\Packages\\PythonSoftwareFoundation.Python.3.11_qbz5n2kfra8p0\\LocalCache\\local-packages\\Python311\\site-packages\\pandas\\io\\common.py:859\u001b[0m, in \u001b[0;36mget_handle\u001b[1;34m(path_or_buf, mode, encoding, compression, memory_map, is_text, errors, storage_options)\u001b[0m\n\u001b[0;32m    854\u001b[0m \u001b[39melif\u001b[39;00m \u001b[39misinstance\u001b[39m(handle, \u001b[39mstr\u001b[39m):\n\u001b[0;32m    855\u001b[0m     \u001b[39m# Check whether the filename is to be opened in binary mode.\u001b[39;00m\n\u001b[0;32m    856\u001b[0m     \u001b[39m# Binary mode does not support 'encoding' and 'newline'.\u001b[39;00m\n\u001b[0;32m    857\u001b[0m     \u001b[39mif\u001b[39;00m ioargs\u001b[39m.\u001b[39mencoding \u001b[39mand\u001b[39;00m \u001b[39m\"\u001b[39m\u001b[39mb\u001b[39m\u001b[39m\"\u001b[39m \u001b[39mnot\u001b[39;00m \u001b[39min\u001b[39;00m ioargs\u001b[39m.\u001b[39mmode:\n\u001b[0;32m    858\u001b[0m         \u001b[39m# Encoding\u001b[39;00m\n\u001b[1;32m--> 859\u001b[0m         handle \u001b[39m=\u001b[39m \u001b[39mopen\u001b[39;49m(\n\u001b[0;32m    860\u001b[0m             handle,\n\u001b[0;32m    861\u001b[0m             ioargs\u001b[39m.\u001b[39;49mmode,\n\u001b[0;32m    862\u001b[0m             encoding\u001b[39m=\u001b[39;49mioargs\u001b[39m.\u001b[39;49mencoding,\n\u001b[0;32m    863\u001b[0m             errors\u001b[39m=\u001b[39;49merrors,\n\u001b[0;32m    864\u001b[0m             newline\u001b[39m=\u001b[39;49m\u001b[39m\"\u001b[39;49m\u001b[39m\"\u001b[39;49m,\n\u001b[0;32m    865\u001b[0m         )\n\u001b[0;32m    866\u001b[0m     \u001b[39melse\u001b[39;00m:\n\u001b[0;32m    867\u001b[0m         \u001b[39m# Binary mode\u001b[39;00m\n\u001b[0;32m    868\u001b[0m         handle \u001b[39m=\u001b[39m \u001b[39mopen\u001b[39m(handle, ioargs\u001b[39m.\u001b[39mmode)\n",
            "\u001b[1;31mFileNotFoundError\u001b[0m: [Errno 2] No such file or directory: '/content/Lumpy skin disease data.csv'"
          ]
        }
      ],
      "source": [
        "df = pd.read_csv('\"C:/Users/asrah/Desktop/asra docs/asra documents/odin notes/data/current/lumpy/Lumpy skin disease data.csv\"')"
      ]
    },
    {
      "cell_type": "markdown",
      "metadata": {},
      "source": [
        "Check for null values."
      ]
    },
    {
      "cell_type": "code",
      "execution_count": null,
      "metadata": {},
      "outputs": [],
      "source": [
        "df.isnull().sum() #checking for null values"
      ]
    },
    {
      "cell_type": "markdown",
      "metadata": {},
      "source": [
        "As it is possible to restore the missing values in the dataset, we use latitude and longitude to determine the missing regions and the countries in the dataset. The already existing python library \"pycountry\" is installed for this purpose."
      ]
    },
    {
      "cell_type": "code",
      "execution_count": null,
      "metadata": {},
      "outputs": [],
      "source": [
        "! pip install geopy pycountry-convert tqdm -q"
      ]
    },
    {
      "cell_type": "code",
      "execution_count": null,
      "metadata": {},
      "outputs": [],
      "source": [
        "import numpy as np\n",
        "import pandas as pd\n",
        "from geopy.geocoders import Nominatim\n",
        "from geopy.extra.rate_limiter import RateLimiter\n",
        "import pycountry_convert as pc\n",
        "\n",
        "from pprint import pprint\n",
        "from typing import Tuple\n",
        "\n",
        "from tqdm import tqdm\n",
        "tqdm.pandas()"
      ]
    },
    {
      "cell_type": "code",
      "execution_count": null,
      "metadata": {},
      "outputs": [],
      "source": [
        "def get_continent_name(continent_code: str) -> str:\n",
        "    continent_dict = {\n",
        "        \"NA\": \"North America\",\n",
        "        \"SA\": \"South America\",\n",
        "        \"AS\": \"Asia\",\n",
        "        \"AF\": \"Africa\",\n",
        "        \"OC\": \"Oceania\",\n",
        "        \"EU\": \"Europe\",\n",
        "        \"AQ\" : \"Antarctica\"\n",
        "    }\n",
        "    return continent_dict[continent_code]\n",
        "\n",
        "get_continent_name(\"EU\")"
      ]
    },
    {
      "cell_type": "code",
      "execution_count": null,
      "metadata": {},
      "outputs": [],
      "source": [
        "def get_continent(lat: float, lon:float) -> Tuple[str, str]:\n",
        "    geolocator = Nominatim(user_agent=\"<username>@gmail.com\", timeout=10)\n",
        "    geocode = RateLimiter(geolocator.reverse, min_delay_seconds=1)\n",
        "\n",
        "    location = geocode(f\"{lat}, {lon}\", language=\"en\")\n",
        "\n",
        "    # for cases where the location is not found, coordinates are antarctica\n",
        "    if location is None:\n",
        "        return \"Antarctica\", \"Antarctica\"\n",
        "\n",
        "    # extract country code\n",
        "    address = location.raw[\"address\"]\n",
        "    country_code = address[\"country_code\"].upper()\n",
        "\n",
        "    # get continent code from country code\n",
        "    continent_code = pc.country_alpha2_to_continent_code(country_code)\n",
        "    continent_name = get_continent_name(continent_code)\n",
        "\n",
        "    return country_code, continent_name\n"
      ]
    },
    {
      "cell_type": "markdown",
      "metadata": {},
      "source": [
        "The below code applies the get continent function to our continent. After that we download this new dataset."
      ]
    },
    {
      "cell_type": "code",
      "execution_count": null,
      "metadata": {},
      "outputs": [],
      "source": [
        "df[[\"country\", \"region\"]] = df.progress_apply(\n",
        "    lambda x: get_continent(x[\"lat\"], x[\"longitude\"]), axis=1, result_type=\"expand\"\n",
        ")"
      ]
    },
    {
      "cell_type": "code",
      "execution_count": null,
      "metadata": {},
      "outputs": [],
      "source": [
        "from google.colab import files\n",
        "df.to_csv('filename.csv')\n",
        "files.download('filename.csv')"
      ]
    },
    {
      "cell_type": "markdown",
      "metadata": {},
      "source": [
        "Let's start by loading the dataset with restored regions and countries."
      ]
    },
    {
      "cell_type": "code",
      "execution_count": 131,
      "metadata": {
        "id": "X-25tWHxCm99"
      },
      "outputs": [],
      "source": [
        "real_df = pd.read_csv('cleaned lumpy dataset.csv')"
      ]
    },
    {
      "cell_type": "markdown",
      "metadata": {},
      "source": [
        "Checking for null values."
      ]
    },
    {
      "cell_type": "code",
      "execution_count": 3,
      "metadata": {
        "id": "ZgPqKyPjRfX0"
      },
      "outputs": [
        {
          "data": {
            "text/plain": [
              "Unnamed: 0                     0\n",
              "longitude                      0\n",
              "lat                            0\n",
              "cloud_cover                    0\n",
              "diurnal_temperature_range      0\n",
              "frost_day_frequency            0\n",
              "evapotranspiration             0\n",
              "precipitation                  0\n",
              "tmn                            0\n",
              "tmp                            0\n",
              "tmx                            0\n",
              "vap                            0\n",
              "wet_day                        0\n",
              "elevation                      0\n",
              "dominant_land_cover            0\n",
              "X5_Ct_2010_Da                  0\n",
              "X5_Bf_2010_Da                  0\n",
              "lumpy                          0\n",
              "country                      354\n",
              "region                         0\n",
              "dtype: int64"
            ]
          },
          "execution_count": 3,
          "metadata": {},
          "output_type": "execute_result"
        }
      ],
      "source": [
        "real_df.isnull().sum()"
      ]
    },
    {
      "cell_type": "markdown",
      "metadata": {},
      "source": [
        "There are 354 null values in the \"country\" column."
      ]
    },
    {
      "cell_type": "code",
      "execution_count": 4,
      "metadata": {
        "colab": {
          "base_uri": "https://localhost:8080/",
          "height": 505
        },
        "id": "MXjxn5WcqBMX",
        "outputId": "9b70253b-5906-461e-92fd-d9201a53186e"
      },
      "outputs": [
        {
          "data": {
            "text/html": [
              "<div>\n",
              "<style scoped>\n",
              "    .dataframe tbody tr th:only-of-type {\n",
              "        vertical-align: middle;\n",
              "    }\n",
              "\n",
              "    .dataframe tbody tr th {\n",
              "        vertical-align: top;\n",
              "    }\n",
              "\n",
              "    .dataframe thead th {\n",
              "        text-align: right;\n",
              "    }\n",
              "</style>\n",
              "<table border=\"1\" class=\"dataframe\">\n",
              "  <thead>\n",
              "    <tr style=\"text-align: right;\">\n",
              "      <th></th>\n",
              "      <th>Unnamed: 0</th>\n",
              "      <th>longitude</th>\n",
              "      <th>lat</th>\n",
              "      <th>cloud_cover</th>\n",
              "      <th>diurnal_temperature_range</th>\n",
              "      <th>frost_day_frequency</th>\n",
              "      <th>evapotranspiration</th>\n",
              "      <th>precipitation</th>\n",
              "      <th>tmn</th>\n",
              "      <th>tmp</th>\n",
              "      <th>tmx</th>\n",
              "      <th>vap</th>\n",
              "      <th>wet_day</th>\n",
              "      <th>elevation</th>\n",
              "      <th>dominant_land_cover</th>\n",
              "      <th>X5_Ct_2010_Da</th>\n",
              "      <th>X5_Bf_2010_Da</th>\n",
              "      <th>lumpy</th>\n",
              "      <th>country</th>\n",
              "      <th>region</th>\n",
              "    </tr>\n",
              "  </thead>\n",
              "  <tbody>\n",
              "    <tr>\n",
              "      <th>156</th>\n",
              "      <td>156</td>\n",
              "      <td>17.69</td>\n",
              "      <td>-17.67</td>\n",
              "      <td>67.5</td>\n",
              "      <td>13.2</td>\n",
              "      <td>0.0</td>\n",
              "      <td>4.1</td>\n",
              "      <td>139.0</td>\n",
              "      <td>19.2</td>\n",
              "      <td>25.8</td>\n",
              "      <td>32.4</td>\n",
              "      <td>19.6</td>\n",
              "      <td>13.30</td>\n",
              "      <td>183</td>\n",
              "      <td>3</td>\n",
              "      <td>615.051847</td>\n",
              "      <td>0.0</td>\n",
              "      <td>1</td>\n",
              "      <td>NaN</td>\n",
              "      <td>Africa</td>\n",
              "    </tr>\n",
              "    <tr>\n",
              "      <th>157</th>\n",
              "      <td>157</td>\n",
              "      <td>15.45</td>\n",
              "      <td>-17.71</td>\n",
              "      <td>67.5</td>\n",
              "      <td>12.5</td>\n",
              "      <td>0.0</td>\n",
              "      <td>4.3</td>\n",
              "      <td>108.0</td>\n",
              "      <td>18.0</td>\n",
              "      <td>24.2</td>\n",
              "      <td>30.5</td>\n",
              "      <td>16.5</td>\n",
              "      <td>9.50</td>\n",
              "      <td>181</td>\n",
              "      <td>3</td>\n",
              "      <td>2229.486428</td>\n",
              "      <td>0.0</td>\n",
              "      <td>1</td>\n",
              "      <td>NaN</td>\n",
              "      <td>Africa</td>\n",
              "    </tr>\n",
              "    <tr>\n",
              "      <th>158</th>\n",
              "      <td>158</td>\n",
              "      <td>17.21</td>\n",
              "      <td>-17.56</td>\n",
              "      <td>67.5</td>\n",
              "      <td>13.3</td>\n",
              "      <td>0.0</td>\n",
              "      <td>4.2</td>\n",
              "      <td>129.0</td>\n",
              "      <td>19.3</td>\n",
              "      <td>25.9</td>\n",
              "      <td>32.6</td>\n",
              "      <td>18.9</td>\n",
              "      <td>12.70</td>\n",
              "      <td>184</td>\n",
              "      <td>3</td>\n",
              "      <td>917.723423</td>\n",
              "      <td>0.0</td>\n",
              "      <td>1</td>\n",
              "      <td>NaN</td>\n",
              "      <td>Africa</td>\n",
              "    </tr>\n",
              "    <tr>\n",
              "      <th>159</th>\n",
              "      <td>159</td>\n",
              "      <td>16.02</td>\n",
              "      <td>-17.95</td>\n",
              "      <td>67.5</td>\n",
              "      <td>13.1</td>\n",
              "      <td>0.0</td>\n",
              "      <td>4.3</td>\n",
              "      <td>112.0</td>\n",
              "      <td>19.1</td>\n",
              "      <td>25.6</td>\n",
              "      <td>32.2</td>\n",
              "      <td>17.8</td>\n",
              "      <td>11.20</td>\n",
              "      <td>182</td>\n",
              "      <td>3</td>\n",
              "      <td>2046.742155</td>\n",
              "      <td>0.0</td>\n",
              "      <td>1</td>\n",
              "      <td>NaN</td>\n",
              "      <td>Africa</td>\n",
              "    </tr>\n",
              "    <tr>\n",
              "      <th>160</th>\n",
              "      <td>160</td>\n",
              "      <td>15.95</td>\n",
              "      <td>-17.48</td>\n",
              "      <td>70.0</td>\n",
              "      <td>13.1</td>\n",
              "      <td>0.0</td>\n",
              "      <td>4.3</td>\n",
              "      <td>104.0</td>\n",
              "      <td>18.6</td>\n",
              "      <td>25.1</td>\n",
              "      <td>31.7</td>\n",
              "      <td>16.3</td>\n",
              "      <td>9.70</td>\n",
              "      <td>182</td>\n",
              "      <td>3</td>\n",
              "      <td>2020.265911</td>\n",
              "      <td>0.0</td>\n",
              "      <td>1</td>\n",
              "      <td>NaN</td>\n",
              "      <td>Africa</td>\n",
              "    </tr>\n",
              "    <tr>\n",
              "      <th>...</th>\n",
              "      <td>...</td>\n",
              "      <td>...</td>\n",
              "      <td>...</td>\n",
              "      <td>...</td>\n",
              "      <td>...</td>\n",
              "      <td>...</td>\n",
              "      <td>...</td>\n",
              "      <td>...</td>\n",
              "      <td>...</td>\n",
              "      <td>...</td>\n",
              "      <td>...</td>\n",
              "      <td>...</td>\n",
              "      <td>...</td>\n",
              "      <td>...</td>\n",
              "      <td>...</td>\n",
              "      <td>...</td>\n",
              "      <td>...</td>\n",
              "      <td>...</td>\n",
              "      <td>...</td>\n",
              "      <td>...</td>\n",
              "    </tr>\n",
              "    <tr>\n",
              "      <th>19310</th>\n",
              "      <td>19310</td>\n",
              "      <td>19.25</td>\n",
              "      <td>-28.25</td>\n",
              "      <td>27.6</td>\n",
              "      <td>16.6</td>\n",
              "      <td>0.0</td>\n",
              "      <td>7.4</td>\n",
              "      <td>30.5</td>\n",
              "      <td>19.5</td>\n",
              "      <td>27.8</td>\n",
              "      <td>36.1</td>\n",
              "      <td>13.3</td>\n",
              "      <td>6.16</td>\n",
              "      <td>171</td>\n",
              "      <td>9</td>\n",
              "      <td>22.826308</td>\n",
              "      <td>0.0</td>\n",
              "      <td>0</td>\n",
              "      <td>NaN</td>\n",
              "      <td>Africa</td>\n",
              "    </tr>\n",
              "    <tr>\n",
              "      <th>19311</th>\n",
              "      <td>19311</td>\n",
              "      <td>19.75</td>\n",
              "      <td>-28.25</td>\n",
              "      <td>28.2</td>\n",
              "      <td>15.9</td>\n",
              "      <td>0.0</td>\n",
              "      <td>7.5</td>\n",
              "      <td>40.4</td>\n",
              "      <td>20.3</td>\n",
              "      <td>28.2</td>\n",
              "      <td>36.2</td>\n",
              "      <td>13.2</td>\n",
              "      <td>6.91</td>\n",
              "      <td>183</td>\n",
              "      <td>3</td>\n",
              "      <td>30.117222</td>\n",
              "      <td>0.0</td>\n",
              "      <td>0</td>\n",
              "      <td>NaN</td>\n",
              "      <td>Africa</td>\n",
              "    </tr>\n",
              "    <tr>\n",
              "      <th>19313</th>\n",
              "      <td>19313</td>\n",
              "      <td>18.25</td>\n",
              "      <td>-28.75</td>\n",
              "      <td>28.1</td>\n",
              "      <td>17.3</td>\n",
              "      <td>0.0</td>\n",
              "      <td>7.4</td>\n",
              "      <td>7.6</td>\n",
              "      <td>18.5</td>\n",
              "      <td>27.1</td>\n",
              "      <td>35.8</td>\n",
              "      <td>13.9</td>\n",
              "      <td>2.93</td>\n",
              "      <td>163</td>\n",
              "      <td>8</td>\n",
              "      <td>9.573538</td>\n",
              "      <td>0.0</td>\n",
              "      <td>0</td>\n",
              "      <td>NaN</td>\n",
              "      <td>Africa</td>\n",
              "    </tr>\n",
              "    <tr>\n",
              "      <th>19314</th>\n",
              "      <td>19314</td>\n",
              "      <td>18.75</td>\n",
              "      <td>-28.75</td>\n",
              "      <td>27.5</td>\n",
              "      <td>17.3</td>\n",
              "      <td>0.0</td>\n",
              "      <td>7.4</td>\n",
              "      <td>12.6</td>\n",
              "      <td>18.7</td>\n",
              "      <td>27.3</td>\n",
              "      <td>36.0</td>\n",
              "      <td>13.5</td>\n",
              "      <td>3.52</td>\n",
              "      <td>150</td>\n",
              "      <td>8</td>\n",
              "      <td>22.151522</td>\n",
              "      <td>0.0</td>\n",
              "      <td>0</td>\n",
              "      <td>NaN</td>\n",
              "      <td>Africa</td>\n",
              "    </tr>\n",
              "    <tr>\n",
              "      <th>19315</th>\n",
              "      <td>19315</td>\n",
              "      <td>19.25</td>\n",
              "      <td>-28.75</td>\n",
              "      <td>26.6</td>\n",
              "      <td>16.6</td>\n",
              "      <td>0.0</td>\n",
              "      <td>7.3</td>\n",
              "      <td>16.3</td>\n",
              "      <td>19.2</td>\n",
              "      <td>27.5</td>\n",
              "      <td>35.8</td>\n",
              "      <td>13.5</td>\n",
              "      <td>4.22</td>\n",
              "      <td>155</td>\n",
              "      <td>8</td>\n",
              "      <td>36.305916</td>\n",
              "      <td>0.0</td>\n",
              "      <td>0</td>\n",
              "      <td>NaN</td>\n",
              "      <td>Africa</td>\n",
              "    </tr>\n",
              "  </tbody>\n",
              "</table>\n",
              "<p>354 rows × 20 columns</p>\n",
              "</div>"
            ],
            "text/plain": [
              "       Unnamed: 0  longitude    lat  cloud_cover  diurnal_temperature_range  \\\n",
              "156           156      17.69 -17.67         67.5                       13.2   \n",
              "157           157      15.45 -17.71         67.5                       12.5   \n",
              "158           158      17.21 -17.56         67.5                       13.3   \n",
              "159           159      16.02 -17.95         67.5                       13.1   \n",
              "160           160      15.95 -17.48         70.0                       13.1   \n",
              "...           ...        ...    ...          ...                        ...   \n",
              "19310       19310      19.25 -28.25         27.6                       16.6   \n",
              "19311       19311      19.75 -28.25         28.2                       15.9   \n",
              "19313       19313      18.25 -28.75         28.1                       17.3   \n",
              "19314       19314      18.75 -28.75         27.5                       17.3   \n",
              "19315       19315      19.25 -28.75         26.6                       16.6   \n",
              "\n",
              "       frost_day_frequency  evapotranspiration  precipitation   tmn   tmp  \\\n",
              "156                    0.0                 4.1          139.0  19.2  25.8   \n",
              "157                    0.0                 4.3          108.0  18.0  24.2   \n",
              "158                    0.0                 4.2          129.0  19.3  25.9   \n",
              "159                    0.0                 4.3          112.0  19.1  25.6   \n",
              "160                    0.0                 4.3          104.0  18.6  25.1   \n",
              "...                    ...                 ...            ...   ...   ...   \n",
              "19310                  0.0                 7.4           30.5  19.5  27.8   \n",
              "19311                  0.0                 7.5           40.4  20.3  28.2   \n",
              "19313                  0.0                 7.4            7.6  18.5  27.1   \n",
              "19314                  0.0                 7.4           12.6  18.7  27.3   \n",
              "19315                  0.0                 7.3           16.3  19.2  27.5   \n",
              "\n",
              "        tmx   vap  wet_day  elevation  dominant_land_cover  X5_Ct_2010_Da  \\\n",
              "156    32.4  19.6    13.30        183                    3     615.051847   \n",
              "157    30.5  16.5     9.50        181                    3    2229.486428   \n",
              "158    32.6  18.9    12.70        184                    3     917.723423   \n",
              "159    32.2  17.8    11.20        182                    3    2046.742155   \n",
              "160    31.7  16.3     9.70        182                    3    2020.265911   \n",
              "...     ...   ...      ...        ...                  ...            ...   \n",
              "19310  36.1  13.3     6.16        171                    9      22.826308   \n",
              "19311  36.2  13.2     6.91        183                    3      30.117222   \n",
              "19313  35.8  13.9     2.93        163                    8       9.573538   \n",
              "19314  36.0  13.5     3.52        150                    8      22.151522   \n",
              "19315  35.8  13.5     4.22        155                    8      36.305916   \n",
              "\n",
              "       X5_Bf_2010_Da  lumpy country  region  \n",
              "156              0.0      1     NaN  Africa  \n",
              "157              0.0      1     NaN  Africa  \n",
              "158              0.0      1     NaN  Africa  \n",
              "159              0.0      1     NaN  Africa  \n",
              "160              0.0      1     NaN  Africa  \n",
              "...              ...    ...     ...     ...  \n",
              "19310            0.0      0     NaN  Africa  \n",
              "19311            0.0      0     NaN  Africa  \n",
              "19313            0.0      0     NaN  Africa  \n",
              "19314            0.0      0     NaN  Africa  \n",
              "19315            0.0      0     NaN  Africa  \n",
              "\n",
              "[354 rows x 20 columns]"
            ]
          },
          "execution_count": 4,
          "metadata": {},
          "output_type": "execute_result"
        }
      ],
      "source": [
        "real_df[real_df['country'].isnull() ]"
      ]
    },
    {
      "cell_type": "markdown",
      "metadata": {},
      "source": [
        "The \"region\" in all of the null countries happens to be Africa."
      ]
    },
    {
      "cell_type": "code",
      "execution_count": 5,
      "metadata": {
        "colab": {
          "base_uri": "https://localhost:8080/"
        },
        "id": "uLf16DnsG_WR",
        "outputId": "adff26ab-6f3c-4009-a6ac-72427b12ebeb"
      },
      "outputs": [
        {
          "data": {
            "text/plain": [
              "array(['Africa'], dtype=object)"
            ]
          },
          "execution_count": 5,
          "metadata": {},
          "output_type": "execute_result"
        }
      ],
      "source": [
        "real_df['region'][real_df['country'].isnull() ].unique()"
      ]
    },
    {
      "cell_type": "markdown",
      "metadata": {},
      "source": [
        "Let's give countries names with the help of already existing country codes, as names are better for our understanding."
      ]
    },
    {
      "cell_type": "code",
      "execution_count": 6,
      "metadata": {
        "id": "AdBMbDD6lxID"
      },
      "outputs": [
        {
          "name": "stdout",
          "output_type": "stream",
          "text": [
            "Requirement already satisfied: pycountry in c:\\users\\asrah\\appdata\\local\\packages\\pythonsoftwarefoundation.python.3.11_qbz5n2kfra8p0\\localcache\\local-packages\\python311\\site-packages (22.3.5)\n",
            "Requirement already satisfied: setuptools in c:\\program files\\windowsapps\\pythonsoftwarefoundation.python.3.11_3.11.1264.0_x64__qbz5n2kfra8p0\\lib\\site-packages (from pycountry) (65.5.0)\n"
          ]
        }
      ],
      "source": [
        "! pip install pycountry"
      ]
    },
    {
      "cell_type": "code",
      "execution_count": 7,
      "metadata": {
        "id": "Vh0Bz_HEl30P"
      },
      "outputs": [],
      "source": [
        "import pycountry"
      ]
    },
    {
      "cell_type": "code",
      "execution_count": 132,
      "metadata": {
        "id": "D6pvSqfdmAMu"
      },
      "outputs": [],
      "source": [
        "def findCountry (country_name):\n",
        "    try:\n",
        "        return pycountry.countries.get(alpha_2= country_name).name\n",
        "    except:\n",
        "        return (\"not found\")\n",
        "real_df['country']=real_df['country'].apply(findCountry)"
      ]
    },
    {
      "cell_type": "markdown",
      "metadata": {},
      "source": [
        "As one can see, the country column now have country names associated with spatial co-ordinates and the region."
      ]
    },
    {
      "cell_type": "code",
      "execution_count": 90,
      "metadata": {
        "colab": {
          "base_uri": "https://localhost:8080/",
          "height": 287
        },
        "id": "7i2s89LlN4J8",
        "outputId": "38b4536d-dace-423d-94d8-aa2e0816aff1"
      },
      "outputs": [
        {
          "data": {
            "text/html": [
              "<div>\n",
              "<style scoped>\n",
              "    .dataframe tbody tr th:only-of-type {\n",
              "        vertical-align: middle;\n",
              "    }\n",
              "\n",
              "    .dataframe tbody tr th {\n",
              "        vertical-align: top;\n",
              "    }\n",
              "\n",
              "    .dataframe thead th {\n",
              "        text-align: right;\n",
              "    }\n",
              "</style>\n",
              "<table border=\"1\" class=\"dataframe\">\n",
              "  <thead>\n",
              "    <tr style=\"text-align: right;\">\n",
              "      <th></th>\n",
              "      <th>Unnamed: 0</th>\n",
              "      <th>longitude</th>\n",
              "      <th>lat</th>\n",
              "      <th>cloud_cover</th>\n",
              "      <th>diurnal_temperature_range</th>\n",
              "      <th>frost_day_frequency</th>\n",
              "      <th>evapotranspiration</th>\n",
              "      <th>precipitation</th>\n",
              "      <th>tmn</th>\n",
              "      <th>tmp</th>\n",
              "      <th>tmx</th>\n",
              "      <th>vap</th>\n",
              "      <th>wet_day</th>\n",
              "      <th>elevation</th>\n",
              "      <th>dominant_land_cover</th>\n",
              "      <th>X5_Ct_2010_Da</th>\n",
              "      <th>X5_Bf_2010_Da</th>\n",
              "      <th>lumpy</th>\n",
              "      <th>country</th>\n",
              "      <th>region</th>\n",
              "    </tr>\n",
              "  </thead>\n",
              "  <tbody>\n",
              "    <tr>\n",
              "      <th>0</th>\n",
              "      <td>0</td>\n",
              "      <td>90.380931</td>\n",
              "      <td>22.437184</td>\n",
              "      <td>41.6</td>\n",
              "      <td>12.8</td>\n",
              "      <td>0.00</td>\n",
              "      <td>2.3</td>\n",
              "      <td>1.7</td>\n",
              "      <td>12.7</td>\n",
              "      <td>19.1</td>\n",
              "      <td>25.5</td>\n",
              "      <td>15.7</td>\n",
              "      <td>0.00</td>\n",
              "      <td>147</td>\n",
              "      <td>2</td>\n",
              "      <td>27970.983100</td>\n",
              "      <td>3691.746950</td>\n",
              "      <td>1</td>\n",
              "      <td>Bangladesh</td>\n",
              "      <td>Asia</td>\n",
              "    </tr>\n",
              "    <tr>\n",
              "      <th>1</th>\n",
              "      <td>1</td>\n",
              "      <td>87.854975</td>\n",
              "      <td>22.986757</td>\n",
              "      <td>40.5</td>\n",
              "      <td>13.3</td>\n",
              "      <td>0.00</td>\n",
              "      <td>2.4</td>\n",
              "      <td>0.0</td>\n",
              "      <td>13.2</td>\n",
              "      <td>19.8</td>\n",
              "      <td>26.5</td>\n",
              "      <td>16.3</td>\n",
              "      <td>0.00</td>\n",
              "      <td>145</td>\n",
              "      <td>2</td>\n",
              "      <td>25063.646690</td>\n",
              "      <td>671.326701</td>\n",
              "      <td>1</td>\n",
              "      <td>India</td>\n",
              "      <td>Asia</td>\n",
              "    </tr>\n",
              "    <tr>\n",
              "      <th>2</th>\n",
              "      <td>2</td>\n",
              "      <td>85.279935</td>\n",
              "      <td>23.610181</td>\n",
              "      <td>27.3</td>\n",
              "      <td>13.6</td>\n",
              "      <td>0.08</td>\n",
              "      <td>2.3</td>\n",
              "      <td>0.6</td>\n",
              "      <td>9.4</td>\n",
              "      <td>16.2</td>\n",
              "      <td>23.0</td>\n",
              "      <td>13.0</td>\n",
              "      <td>0.98</td>\n",
              "      <td>158</td>\n",
              "      <td>2</td>\n",
              "      <td>6038.477155</td>\n",
              "      <td>1426.839831</td>\n",
              "      <td>1</td>\n",
              "      <td>India</td>\n",
              "      <td>Asia</td>\n",
              "    </tr>\n",
              "    <tr>\n",
              "      <th>3</th>\n",
              "      <td>3</td>\n",
              "      <td>81.564510</td>\n",
              "      <td>43.882221</td>\n",
              "      <td>45.3</td>\n",
              "      <td>12.8</td>\n",
              "      <td>31.00</td>\n",
              "      <td>0.4</td>\n",
              "      <td>8.8</td>\n",
              "      <td>-22.5</td>\n",
              "      <td>-16.1</td>\n",
              "      <td>-9.7</td>\n",
              "      <td>0.9</td>\n",
              "      <td>4.64</td>\n",
              "      <td>178</td>\n",
              "      <td>2</td>\n",
              "      <td>760.703340</td>\n",
              "      <td>0.000000</td>\n",
              "      <td>1</td>\n",
              "      <td>China</td>\n",
              "      <td>Asia</td>\n",
              "    </tr>\n",
              "    <tr>\n",
              "      <th>4</th>\n",
              "      <td>4</td>\n",
              "      <td>81.161057</td>\n",
              "      <td>43.834976</td>\n",
              "      <td>38.8</td>\n",
              "      <td>13.2</td>\n",
              "      <td>31.00</td>\n",
              "      <td>0.4</td>\n",
              "      <td>10.5</td>\n",
              "      <td>-20.4</td>\n",
              "      <td>-13.8</td>\n",
              "      <td>-7.2</td>\n",
              "      <td>1.2</td>\n",
              "      <td>1.69</td>\n",
              "      <td>185</td>\n",
              "      <td>3</td>\n",
              "      <td>270.367426</td>\n",
              "      <td>0.000000</td>\n",
              "      <td>1</td>\n",
              "      <td>China</td>\n",
              "      <td>Asia</td>\n",
              "    </tr>\n",
              "  </tbody>\n",
              "</table>\n",
              "</div>"
            ],
            "text/plain": [
              "   Unnamed: 0  longitude        lat  cloud_cover  diurnal_temperature_range  \\\n",
              "0           0  90.380931  22.437184         41.6                       12.8   \n",
              "1           1  87.854975  22.986757         40.5                       13.3   \n",
              "2           2  85.279935  23.610181         27.3                       13.6   \n",
              "3           3  81.564510  43.882221         45.3                       12.8   \n",
              "4           4  81.161057  43.834976         38.8                       13.2   \n",
              "\n",
              "   frost_day_frequency  evapotranspiration  precipitation   tmn   tmp   tmx  \\\n",
              "0                 0.00                 2.3            1.7  12.7  19.1  25.5   \n",
              "1                 0.00                 2.4            0.0  13.2  19.8  26.5   \n",
              "2                 0.08                 2.3            0.6   9.4  16.2  23.0   \n",
              "3                31.00                 0.4            8.8 -22.5 -16.1  -9.7   \n",
              "4                31.00                 0.4           10.5 -20.4 -13.8  -7.2   \n",
              "\n",
              "    vap  wet_day  elevation  dominant_land_cover  X5_Ct_2010_Da  \\\n",
              "0  15.7     0.00        147                    2   27970.983100   \n",
              "1  16.3     0.00        145                    2   25063.646690   \n",
              "2  13.0     0.98        158                    2    6038.477155   \n",
              "3   0.9     4.64        178                    2     760.703340   \n",
              "4   1.2     1.69        185                    3     270.367426   \n",
              "\n",
              "   X5_Bf_2010_Da  lumpy     country region  \n",
              "0    3691.746950      1  Bangladesh   Asia  \n",
              "1     671.326701      1       India   Asia  \n",
              "2    1426.839831      1       India   Asia  \n",
              "3       0.000000      1       China   Asia  \n",
              "4       0.000000      1       China   Asia  "
            ]
          },
          "execution_count": 90,
          "metadata": {},
          "output_type": "execute_result"
        }
      ],
      "source": [
        "real_df.head()"
      ]
    },
    {
      "cell_type": "markdown",
      "metadata": {},
      "source": [
        "But 354 African countries are null, and therefore do not possess a country code."
      ]
    },
    {
      "cell_type": "code",
      "execution_count": 10,
      "metadata": {
        "colab": {
          "base_uri": "https://localhost:8080/",
          "height": 130
        },
        "id": "MPZUfhkrbpy3",
        "outputId": "ce180aff-aff6-4201-9fd8-80d7c785ac93"
      },
      "outputs": [
        {
          "data": {
            "text/html": [
              "<div>\n",
              "<style scoped>\n",
              "    .dataframe tbody tr th:only-of-type {\n",
              "        vertical-align: middle;\n",
              "    }\n",
              "\n",
              "    .dataframe tbody tr th {\n",
              "        vertical-align: top;\n",
              "    }\n",
              "\n",
              "    .dataframe thead th {\n",
              "        text-align: right;\n",
              "    }\n",
              "</style>\n",
              "<table border=\"1\" class=\"dataframe\">\n",
              "  <thead>\n",
              "    <tr style=\"text-align: right;\">\n",
              "      <th></th>\n",
              "      <th>Unnamed: 0</th>\n",
              "      <th>longitude</th>\n",
              "      <th>lat</th>\n",
              "      <th>cloud_cover</th>\n",
              "      <th>diurnal_temperature_range</th>\n",
              "      <th>frost_day_frequency</th>\n",
              "      <th>evapotranspiration</th>\n",
              "      <th>precipitation</th>\n",
              "      <th>tmn</th>\n",
              "      <th>tmp</th>\n",
              "      <th>tmx</th>\n",
              "      <th>vap</th>\n",
              "      <th>wet_day</th>\n",
              "      <th>elevation</th>\n",
              "      <th>dominant_land_cover</th>\n",
              "      <th>X5_Ct_2010_Da</th>\n",
              "      <th>X5_Bf_2010_Da</th>\n",
              "      <th>lumpy</th>\n",
              "      <th>country</th>\n",
              "      <th>region</th>\n",
              "    </tr>\n",
              "  </thead>\n",
              "  <tbody>\n",
              "    <tr>\n",
              "      <th>156</th>\n",
              "      <td>156</td>\n",
              "      <td>17.69</td>\n",
              "      <td>-17.67</td>\n",
              "      <td>67.5</td>\n",
              "      <td>13.2</td>\n",
              "      <td>0.0</td>\n",
              "      <td>4.1</td>\n",
              "      <td>139.0</td>\n",
              "      <td>19.2</td>\n",
              "      <td>25.8</td>\n",
              "      <td>32.4</td>\n",
              "      <td>19.6</td>\n",
              "      <td>13.30</td>\n",
              "      <td>183</td>\n",
              "      <td>3</td>\n",
              "      <td>615.051847</td>\n",
              "      <td>0.0</td>\n",
              "      <td>1</td>\n",
              "      <td>not found</td>\n",
              "      <td>Africa</td>\n",
              "    </tr>\n",
              "    <tr>\n",
              "      <th>157</th>\n",
              "      <td>157</td>\n",
              "      <td>15.45</td>\n",
              "      <td>-17.71</td>\n",
              "      <td>67.5</td>\n",
              "      <td>12.5</td>\n",
              "      <td>0.0</td>\n",
              "      <td>4.3</td>\n",
              "      <td>108.0</td>\n",
              "      <td>18.0</td>\n",
              "      <td>24.2</td>\n",
              "      <td>30.5</td>\n",
              "      <td>16.5</td>\n",
              "      <td>9.50</td>\n",
              "      <td>181</td>\n",
              "      <td>3</td>\n",
              "      <td>2229.486428</td>\n",
              "      <td>0.0</td>\n",
              "      <td>1</td>\n",
              "      <td>not found</td>\n",
              "      <td>Africa</td>\n",
              "    </tr>\n",
              "    <tr>\n",
              "      <th>158</th>\n",
              "      <td>158</td>\n",
              "      <td>17.21</td>\n",
              "      <td>-17.56</td>\n",
              "      <td>67.5</td>\n",
              "      <td>13.3</td>\n",
              "      <td>0.0</td>\n",
              "      <td>4.2</td>\n",
              "      <td>129.0</td>\n",
              "      <td>19.3</td>\n",
              "      <td>25.9</td>\n",
              "      <td>32.6</td>\n",
              "      <td>18.9</td>\n",
              "      <td>12.70</td>\n",
              "      <td>184</td>\n",
              "      <td>3</td>\n",
              "      <td>917.723423</td>\n",
              "      <td>0.0</td>\n",
              "      <td>1</td>\n",
              "      <td>not found</td>\n",
              "      <td>Africa</td>\n",
              "    </tr>\n",
              "    <tr>\n",
              "      <th>159</th>\n",
              "      <td>159</td>\n",
              "      <td>16.02</td>\n",
              "      <td>-17.95</td>\n",
              "      <td>67.5</td>\n",
              "      <td>13.1</td>\n",
              "      <td>0.0</td>\n",
              "      <td>4.3</td>\n",
              "      <td>112.0</td>\n",
              "      <td>19.1</td>\n",
              "      <td>25.6</td>\n",
              "      <td>32.2</td>\n",
              "      <td>17.8</td>\n",
              "      <td>11.20</td>\n",
              "      <td>182</td>\n",
              "      <td>3</td>\n",
              "      <td>2046.742155</td>\n",
              "      <td>0.0</td>\n",
              "      <td>1</td>\n",
              "      <td>not found</td>\n",
              "      <td>Africa</td>\n",
              "    </tr>\n",
              "    <tr>\n",
              "      <th>160</th>\n",
              "      <td>160</td>\n",
              "      <td>15.95</td>\n",
              "      <td>-17.48</td>\n",
              "      <td>70.0</td>\n",
              "      <td>13.1</td>\n",
              "      <td>0.0</td>\n",
              "      <td>4.3</td>\n",
              "      <td>104.0</td>\n",
              "      <td>18.6</td>\n",
              "      <td>25.1</td>\n",
              "      <td>31.7</td>\n",
              "      <td>16.3</td>\n",
              "      <td>9.70</td>\n",
              "      <td>182</td>\n",
              "      <td>3</td>\n",
              "      <td>2020.265911</td>\n",
              "      <td>0.0</td>\n",
              "      <td>1</td>\n",
              "      <td>not found</td>\n",
              "      <td>Africa</td>\n",
              "    </tr>\n",
              "    <tr>\n",
              "      <th>...</th>\n",
              "      <td>...</td>\n",
              "      <td>...</td>\n",
              "      <td>...</td>\n",
              "      <td>...</td>\n",
              "      <td>...</td>\n",
              "      <td>...</td>\n",
              "      <td>...</td>\n",
              "      <td>...</td>\n",
              "      <td>...</td>\n",
              "      <td>...</td>\n",
              "      <td>...</td>\n",
              "      <td>...</td>\n",
              "      <td>...</td>\n",
              "      <td>...</td>\n",
              "      <td>...</td>\n",
              "      <td>...</td>\n",
              "      <td>...</td>\n",
              "      <td>...</td>\n",
              "      <td>...</td>\n",
              "      <td>...</td>\n",
              "    </tr>\n",
              "    <tr>\n",
              "      <th>19310</th>\n",
              "      <td>19310</td>\n",
              "      <td>19.25</td>\n",
              "      <td>-28.25</td>\n",
              "      <td>27.6</td>\n",
              "      <td>16.6</td>\n",
              "      <td>0.0</td>\n",
              "      <td>7.4</td>\n",
              "      <td>30.5</td>\n",
              "      <td>19.5</td>\n",
              "      <td>27.8</td>\n",
              "      <td>36.1</td>\n",
              "      <td>13.3</td>\n",
              "      <td>6.16</td>\n",
              "      <td>171</td>\n",
              "      <td>9</td>\n",
              "      <td>22.826308</td>\n",
              "      <td>0.0</td>\n",
              "      <td>0</td>\n",
              "      <td>not found</td>\n",
              "      <td>Africa</td>\n",
              "    </tr>\n",
              "    <tr>\n",
              "      <th>19311</th>\n",
              "      <td>19311</td>\n",
              "      <td>19.75</td>\n",
              "      <td>-28.25</td>\n",
              "      <td>28.2</td>\n",
              "      <td>15.9</td>\n",
              "      <td>0.0</td>\n",
              "      <td>7.5</td>\n",
              "      <td>40.4</td>\n",
              "      <td>20.3</td>\n",
              "      <td>28.2</td>\n",
              "      <td>36.2</td>\n",
              "      <td>13.2</td>\n",
              "      <td>6.91</td>\n",
              "      <td>183</td>\n",
              "      <td>3</td>\n",
              "      <td>30.117222</td>\n",
              "      <td>0.0</td>\n",
              "      <td>0</td>\n",
              "      <td>not found</td>\n",
              "      <td>Africa</td>\n",
              "    </tr>\n",
              "    <tr>\n",
              "      <th>19313</th>\n",
              "      <td>19313</td>\n",
              "      <td>18.25</td>\n",
              "      <td>-28.75</td>\n",
              "      <td>28.1</td>\n",
              "      <td>17.3</td>\n",
              "      <td>0.0</td>\n",
              "      <td>7.4</td>\n",
              "      <td>7.6</td>\n",
              "      <td>18.5</td>\n",
              "      <td>27.1</td>\n",
              "      <td>35.8</td>\n",
              "      <td>13.9</td>\n",
              "      <td>2.93</td>\n",
              "      <td>163</td>\n",
              "      <td>8</td>\n",
              "      <td>9.573538</td>\n",
              "      <td>0.0</td>\n",
              "      <td>0</td>\n",
              "      <td>not found</td>\n",
              "      <td>Africa</td>\n",
              "    </tr>\n",
              "    <tr>\n",
              "      <th>19314</th>\n",
              "      <td>19314</td>\n",
              "      <td>18.75</td>\n",
              "      <td>-28.75</td>\n",
              "      <td>27.5</td>\n",
              "      <td>17.3</td>\n",
              "      <td>0.0</td>\n",
              "      <td>7.4</td>\n",
              "      <td>12.6</td>\n",
              "      <td>18.7</td>\n",
              "      <td>27.3</td>\n",
              "      <td>36.0</td>\n",
              "      <td>13.5</td>\n",
              "      <td>3.52</td>\n",
              "      <td>150</td>\n",
              "      <td>8</td>\n",
              "      <td>22.151522</td>\n",
              "      <td>0.0</td>\n",
              "      <td>0</td>\n",
              "      <td>not found</td>\n",
              "      <td>Africa</td>\n",
              "    </tr>\n",
              "    <tr>\n",
              "      <th>19315</th>\n",
              "      <td>19315</td>\n",
              "      <td>19.25</td>\n",
              "      <td>-28.75</td>\n",
              "      <td>26.6</td>\n",
              "      <td>16.6</td>\n",
              "      <td>0.0</td>\n",
              "      <td>7.3</td>\n",
              "      <td>16.3</td>\n",
              "      <td>19.2</td>\n",
              "      <td>27.5</td>\n",
              "      <td>35.8</td>\n",
              "      <td>13.5</td>\n",
              "      <td>4.22</td>\n",
              "      <td>155</td>\n",
              "      <td>8</td>\n",
              "      <td>36.305916</td>\n",
              "      <td>0.0</td>\n",
              "      <td>0</td>\n",
              "      <td>not found</td>\n",
              "      <td>Africa</td>\n",
              "    </tr>\n",
              "  </tbody>\n",
              "</table>\n",
              "<p>355 rows × 20 columns</p>\n",
              "</div>"
            ],
            "text/plain": [
              "       Unnamed: 0  longitude    lat  cloud_cover  diurnal_temperature_range  \\\n",
              "156           156      17.69 -17.67         67.5                       13.2   \n",
              "157           157      15.45 -17.71         67.5                       12.5   \n",
              "158           158      17.21 -17.56         67.5                       13.3   \n",
              "159           159      16.02 -17.95         67.5                       13.1   \n",
              "160           160      15.95 -17.48         70.0                       13.1   \n",
              "...           ...        ...    ...          ...                        ...   \n",
              "19310       19310      19.25 -28.25         27.6                       16.6   \n",
              "19311       19311      19.75 -28.25         28.2                       15.9   \n",
              "19313       19313      18.25 -28.75         28.1                       17.3   \n",
              "19314       19314      18.75 -28.75         27.5                       17.3   \n",
              "19315       19315      19.25 -28.75         26.6                       16.6   \n",
              "\n",
              "       frost_day_frequency  evapotranspiration  precipitation   tmn   tmp  \\\n",
              "156                    0.0                 4.1          139.0  19.2  25.8   \n",
              "157                    0.0                 4.3          108.0  18.0  24.2   \n",
              "158                    0.0                 4.2          129.0  19.3  25.9   \n",
              "159                    0.0                 4.3          112.0  19.1  25.6   \n",
              "160                    0.0                 4.3          104.0  18.6  25.1   \n",
              "...                    ...                 ...            ...   ...   ...   \n",
              "19310                  0.0                 7.4           30.5  19.5  27.8   \n",
              "19311                  0.0                 7.5           40.4  20.3  28.2   \n",
              "19313                  0.0                 7.4            7.6  18.5  27.1   \n",
              "19314                  0.0                 7.4           12.6  18.7  27.3   \n",
              "19315                  0.0                 7.3           16.3  19.2  27.5   \n",
              "\n",
              "        tmx   vap  wet_day  elevation  dominant_land_cover  X5_Ct_2010_Da  \\\n",
              "156    32.4  19.6    13.30        183                    3     615.051847   \n",
              "157    30.5  16.5     9.50        181                    3    2229.486428   \n",
              "158    32.6  18.9    12.70        184                    3     917.723423   \n",
              "159    32.2  17.8    11.20        182                    3    2046.742155   \n",
              "160    31.7  16.3     9.70        182                    3    2020.265911   \n",
              "...     ...   ...      ...        ...                  ...            ...   \n",
              "19310  36.1  13.3     6.16        171                    9      22.826308   \n",
              "19311  36.2  13.2     6.91        183                    3      30.117222   \n",
              "19313  35.8  13.9     2.93        163                    8       9.573538   \n",
              "19314  36.0  13.5     3.52        150                    8      22.151522   \n",
              "19315  35.8  13.5     4.22        155                    8      36.305916   \n",
              "\n",
              "       X5_Bf_2010_Da  lumpy    country  region  \n",
              "156              0.0      1  not found  Africa  \n",
              "157              0.0      1  not found  Africa  \n",
              "158              0.0      1  not found  Africa  \n",
              "159              0.0      1  not found  Africa  \n",
              "160              0.0      1  not found  Africa  \n",
              "...              ...    ...        ...     ...  \n",
              "19310            0.0      0  not found  Africa  \n",
              "19311            0.0      0  not found  Africa  \n",
              "19313            0.0      0  not found  Africa  \n",
              "19314            0.0      0  not found  Africa  \n",
              "19315            0.0      0  not found  Africa  \n",
              "\n",
              "[355 rows x 20 columns]"
            ]
          },
          "execution_count": 10,
          "metadata": {},
          "output_type": "execute_result"
        }
      ],
      "source": [
        "real_df[real_df['country']=='not found']"
      ]
    },
    {
      "cell_type": "markdown",
      "metadata": {},
      "source": [
        "An examination of the dataset reveals that 354 African country codes and 1 European country code are missing. The absence of country names for African countries can be attributed to the unavailability of corresponding country codes initially. On the other hand, the lack of a country name for the European country appears to be associated with geopolitical factors."
      ]
    },
    {
      "cell_type": "code",
      "execution_count": 79,
      "metadata": {
        "colab": {
          "base_uri": "https://localhost:8080/"
        },
        "id": "jjJuwzeGtJTw",
        "outputId": "c0f8b679-92a9-48e6-f959-710984e08dd0"
      },
      "outputs": [
        {
          "data": {
            "text/plain": [
              "array(['Africa', 'Europe'], dtype=object)"
            ]
          },
          "execution_count": 79,
          "metadata": {},
          "output_type": "execute_result"
        }
      ],
      "source": [
        "real_df['region'][real_df['country']=='not found'].unique()"
      ]
    },
    {
      "cell_type": "markdown",
      "metadata": {},
      "source": [
        "Within this dataset, we can observe the available information pertaining to the European country for which the country code could not be located. Upon conducting independent research utilizing longitude and latitude data, it can be deduced that the name of the country is 'Kosovo'."
      ]
    },
    {
      "cell_type": "code",
      "execution_count": 80,
      "metadata": {
        "colab": {
          "base_uri": "https://localhost:8080/",
          "height": 130
        },
        "id": "lah3tVtbqEHW",
        "outputId": "2e59870b-3965-43c8-d699-b7fbc4d2e276"
      },
      "outputs": [
        {
          "data": {
            "text/html": [
              "<div>\n",
              "<style scoped>\n",
              "    .dataframe tbody tr th:only-of-type {\n",
              "        vertical-align: middle;\n",
              "    }\n",
              "\n",
              "    .dataframe tbody tr th {\n",
              "        vertical-align: top;\n",
              "    }\n",
              "\n",
              "    .dataframe thead th {\n",
              "        text-align: right;\n",
              "    }\n",
              "</style>\n",
              "<table border=\"1\" class=\"dataframe\">\n",
              "  <thead>\n",
              "    <tr style=\"text-align: right;\">\n",
              "      <th></th>\n",
              "      <th>Unnamed: 0</th>\n",
              "      <th>longitude</th>\n",
              "      <th>lat</th>\n",
              "      <th>cloud_cover</th>\n",
              "      <th>diurnal_temperature_range</th>\n",
              "      <th>frost_day_frequency</th>\n",
              "      <th>evapotranspiration</th>\n",
              "      <th>precipitation</th>\n",
              "      <th>tmn</th>\n",
              "      <th>tmp</th>\n",
              "      <th>tmx</th>\n",
              "      <th>vap</th>\n",
              "      <th>wet_day</th>\n",
              "      <th>elevation</th>\n",
              "      <th>dominant_land_cover</th>\n",
              "      <th>X5_Ct_2010_Da</th>\n",
              "      <th>X5_Bf_2010_Da</th>\n",
              "      <th>lumpy</th>\n",
              "      <th>country</th>\n",
              "      <th>region</th>\n",
              "    </tr>\n",
              "  </thead>\n",
              "  <tbody>\n",
              "    <tr>\n",
              "      <th>1976</th>\n",
              "      <td>1976</td>\n",
              "      <td>21.6322</td>\n",
              "      <td>42.6908</td>\n",
              "      <td>85.2</td>\n",
              "      <td>6.0</td>\n",
              "      <td>25.04</td>\n",
              "      <td>0.6</td>\n",
              "      <td>29.9</td>\n",
              "      <td>-3.8</td>\n",
              "      <td>-0.8</td>\n",
              "      <td>2.2</td>\n",
              "      <td>4.6</td>\n",
              "      <td>8.5</td>\n",
              "      <td>185</td>\n",
              "      <td>4</td>\n",
              "      <td>500.056773</td>\n",
              "      <td>0.0</td>\n",
              "      <td>1</td>\n",
              "      <td>not found</td>\n",
              "      <td>Europe</td>\n",
              "    </tr>\n",
              "  </tbody>\n",
              "</table>\n",
              "</div>"
            ],
            "text/plain": [
              "      Unnamed: 0  longitude      lat  cloud_cover  diurnal_temperature_range  \\\n",
              "1976        1976    21.6322  42.6908         85.2                        6.0   \n",
              "\n",
              "      frost_day_frequency  evapotranspiration  precipitation  tmn  tmp  tmx  \\\n",
              "1976                25.04                 0.6           29.9 -3.8 -0.8  2.2   \n",
              "\n",
              "      vap  wet_day  elevation  dominant_land_cover  X5_Ct_2010_Da  \\\n",
              "1976  4.6      8.5        185                    4     500.056773   \n",
              "\n",
              "      X5_Bf_2010_Da  lumpy    country  region  \n",
              "1976            0.0      1  not found  Europe  "
            ]
          },
          "execution_count": 80,
          "metadata": {},
          "output_type": "execute_result"
        }
      ],
      "source": [
        "real_df[(real_df['region']=='Europe')&(real_df['country']== 'not found')]"
      ]
    },
    {
      "cell_type": "markdown",
      "metadata": {},
      "source": [
        "We replace the \"not found\" in the European country to \"Kosovo\" which is it's right name."
      ]
    },
    {
      "cell_type": "code",
      "execution_count": 133,
      "metadata": {
        "id": "RqEluhs9Pc1s"
      },
      "outputs": [],
      "source": [
        "real_df[(real_df['region']=='Europe')&(real_df['country']== 'not found')]=real_df[(real_df['region']=='Europe')&(real_df['country']== 'not found')].replace('not found','Kosovo')"
      ]
    },
    {
      "cell_type": "markdown",
      "metadata": {},
      "source": [
        "The 354 countries have no country codes either but atleast we know these countries are african countries. Here, I have replaced the \"not found\" in country column with \"African Country\"."
      ]
    },
    {
      "cell_type": "code",
      "execution_count": 134,
      "metadata": {
        "id": "-NbM4vijNwBF"
      },
      "outputs": [],
      "source": [
        "real_df['country'].replace('not found', 'African Country', inplace = True)"
      ]
    },
    {
      "cell_type": "markdown",
      "metadata": {
        "id": "jvGJ3GGAipex"
      },
      "source": [
        "# **DATA VISUALIZATION**"
      ]
    },
    {
      "cell_type": "markdown",
      "metadata": {},
      "source": [
        "Here we can see the top ten most affected countries by the lumpy disease."
      ]
    },
    {
      "cell_type": "code",
      "execution_count": 15,
      "metadata": {},
      "outputs": [
        {
          "data": {
            "image/png": "[encoded data removed]",
            "text/plain": [
              "<Figure size 640x480 with 1 Axes>"
            ]
          },
          "metadata": {},
          "output_type": "display_data"
        }
      ],
      "source": [
        "country_count = real_df['country'].value_counts()\n",
        "country_count = country_count[:10]\n",
        "sns.set_style(\"whitegrid\")\n",
        "sns.barplot(x=country_count.values, y=country_count.index)\n",
        "plt.title('Top 10 Most Affected Countries')\n",
        "plt.xlabel('Number of occurrences')\n",
        "plt.ylabel('Country')\n",
        "for i, v in enumerate(country_count.values):\n",
        "    plt.text(v, i, str(v), color='black', fontsize=12)"
      ]
    },
    {
      "cell_type": "code",
      "execution_count": 16,
      "metadata": {},
      "outputs": [
        {
          "data": {
            "image/png": "[encoded data removed]",
            "text/plain": [
              "<Figure size 640x480 with 1 Axes>"
            ]
          },
          "metadata": {},
          "output_type": "display_data"
        }
      ],
      "source": [
        "country_count = real_df['country'].value_counts()\n",
        "country_count = country_count[-10:]\n",
        "sns.set_style(\"whitegrid\")\n",
        "sns.barplot(x=country_count.values, y=country_count.index)\n",
        "plt.title('Top 10 Least Affected Countries')\n",
        "plt.xlabel('Number of occurrences')\n",
        "plt.ylabel('Country')\n",
        "for i, v in enumerate(country_count.values):\n",
        "    plt.text(v, i, str(v), color='black', fontsize=12)"
      ]
    },
    {
      "cell_type": "markdown",
      "metadata": {},
      "source": [
        "The Frost day frequency happens to be the most in Europe and the least in Africa. The reason for this is probably that Africa belongs to the hotter part of the globe. Whereas the Asian continent also recieves good amount of frost day frequesncy."
      ]
    },
    {
      "cell_type": "code",
      "execution_count": 17,
      "metadata": {
        "colab": {
          "base_uri": "https://localhost:8080/",
          "height": 472
        },
        "id": "CLHpDq0RWvkm",
        "outputId": "b94e3e42-1824-40d8-eefb-2943747ef975"
      },
      "outputs": [
        {
          "data": {
            "image/png": "[encoded data removed]",
            "text/plain": [
              "<Figure size 640x480 with 1 Axes>"
            ]
          },
          "metadata": {},
          "output_type": "display_data"
        }
      ],
      "source": [
        "sns.barplot(x=real_df['region'], y=real_df['frost_day_frequency'])\n",
        "plt.xlabel('Continent')\n",
        "plt.ylabel('Frost Day Frequency')\n",
        "plt.title('Frost Day Frequency by Continent')\n",
        "plt.show()\n",
        "\n"
      ]
    },
    {
      "cell_type": "code",
      "execution_count": 18,
      "metadata": {},
      "outputs": [
        {
          "data": {
            "image/png": "[encoded data removed]",
            "text/plain": [
              "<Figure size 640x480 with 1 Axes>"
            ]
          },
          "metadata": {},
          "output_type": "display_data"
        }
      ],
      "source": [
        "sns.barplot(x=real_df['region'], y=real_df['wet_day'])\n",
        "plt.xlabel('Continent')\n",
        "plt.ylabel('Wet Day Frequency')\n",
        "plt.title('Wet Day Frequency by Continent')\n",
        "plt.show()"
      ]
    },
    {
      "cell_type": "markdown",
      "metadata": {},
      "source": [
        "Below map shows the data we have on the entire globe. Here, we can see that the light green region happens to the one with no cases but as we scroll in and look deeper we observe the dark green spots which indicate the occurence of the lumpy disease."
      ]
    },
    {
      "cell_type": "code",
      "execution_count": 19,
      "metadata": {
        "id": "hT8H-fzjKMVi"
      },
      "outputs": [
        {
          "ename": "ModuleNotFoundError",
          "evalue": "No module named 'plotly'",
          "output_type": "error",
          "traceback": [
            "\u001b[1;31m---------------------------------------------------------------------------\u001b[0m",
            "\u001b[1;31mModuleNotFoundError\u001b[0m                       Traceback (most recent call last)",
            "Cell \u001b[1;32mIn[19], line 1\u001b[0m\n\u001b[1;32m----> 1\u001b[0m \u001b[39mimport\u001b[39;00m \u001b[39mplotly\u001b[39;00m\u001b[39m.\u001b[39;00m\u001b[39mexpress\u001b[39;00m \u001b[39mas\u001b[39;00m \u001b[39mpx\u001b[39;00m\n\u001b[0;32m      3\u001b[0m \u001b[39m# Assuming 'df' is the DataFrame containing longitude, latitude, and target columns\u001b[39;00m\n\u001b[0;32m      4\u001b[0m fig \u001b[39m=\u001b[39m px\u001b[39m.\u001b[39mscatter_mapbox(real_df, lat\u001b[39m=\u001b[39m\u001b[39m'\u001b[39m\u001b[39mlat\u001b[39m\u001b[39m'\u001b[39m, lon\u001b[39m=\u001b[39m\u001b[39m'\u001b[39m\u001b[39mlongitude\u001b[39m\u001b[39m'\u001b[39m,hover_name\u001b[39m=\u001b[39m\u001b[39m'\u001b[39m\u001b[39mcountry\u001b[39m\u001b[39m'\u001b[39m,\n\u001b[0;32m      5\u001b[0m                         color\u001b[39m=\u001b[39m\u001b[39m'\u001b[39m\u001b[39mlumpy\u001b[39m\u001b[39m'\u001b[39m, color_continuous_scale\u001b[39m=\u001b[39m\u001b[39m'\u001b[39m\u001b[39malgae\u001b[39m\u001b[39m'\u001b[39m,\n\u001b[0;32m      6\u001b[0m                         mapbox_style\u001b[39m=\u001b[39m\u001b[39m'\u001b[39m\u001b[39mopen-street-map\u001b[39m\u001b[39m'\u001b[39m, zoom\u001b[39m=\u001b[39m\u001b[39m10\u001b[39m)\n",
            "\u001b[1;31mModuleNotFoundError\u001b[0m: No module named 'plotly'"
          ]
        }
      ],
      "source": [
        "import plotly.express as px\n",
        "\n",
        "# Assuming 'df' is the DataFrame containing longitude, latitude, and target columns\n",
        "fig = px.scatter_mapbox(real_df, lat='lat', lon='longitude',hover_name='country',\n",
        "                        color='lumpy', color_continuous_scale='algae',\n",
        "                        mapbox_style='open-street-map', zoom=10)\n",
        "\n",
        "fig.update_layout(title='Geographic Locations with Target Hue',\n",
        "                  margin=dict(l=0, r=0, t=50, b=0),\n",
        "                  mapbox=dict(center=dict(lat=real_df['lat'].mean(), lon=real_df['longitude'].mean())))\n",
        "\n",
        "fig.show()\n"
      ]
    },
    {
      "cell_type": "code",
      "execution_count": 20,
      "metadata": {
        "colab": {
          "base_uri": "https://localhost:8080/",
          "height": 200
        },
        "id": "7Q3ImZpc3LHE",
        "outputId": "b0d68d51-026f-4402-b501-408522f294aa"
      },
      "outputs": [
        {
          "ename": "NameError",
          "evalue": "name 'px' is not defined",
          "output_type": "error",
          "traceback": [
            "\u001b[1;31m---------------------------------------------------------------------------\u001b[0m",
            "\u001b[1;31mNameError\u001b[0m                                 Traceback (most recent call last)",
            "Cell \u001b[1;32mIn[20], line 1\u001b[0m\n\u001b[1;32m----> 1\u001b[0m fig \u001b[39m=\u001b[39m px\u001b[39m.\u001b[39mscatter_geo(real_df,lat\u001b[39m=\u001b[39m\u001b[39m'\u001b[39m\u001b[39mlat\u001b[39m\u001b[39m'\u001b[39m,lon\u001b[39m=\u001b[39m\u001b[39m'\u001b[39m\u001b[39mlongitude\u001b[39m\u001b[39m'\u001b[39m)\n\u001b[0;32m      2\u001b[0m fig\u001b[39m.\u001b[39mupdate_layout(title \u001b[39m=\u001b[39m \u001b[39m'\u001b[39m\u001b[39mLumpy Skin Disease Area\u001b[39m\u001b[39m'\u001b[39m, title_x\u001b[39m=\u001b[39m\u001b[39m0.5\u001b[39m)\n\u001b[0;32m      3\u001b[0m fig\u001b[39m.\u001b[39mshow()\n",
            "\u001b[1;31mNameError\u001b[0m: name 'px' is not defined"
          ]
        }
      ],
      "source": [
        "fig = px.scatter_geo(real_df,lat='lat',lon='longitude')\n",
        "fig.update_layout(title = 'Lumpy Skin Disease Area', title_x=0.5)\n",
        "fig.show()"
      ]
    },
    {
      "cell_type": "markdown",
      "metadata": {},
      "source": [
        "Here we observe that most datapoints in this dataset have high altitude and low percipation."
      ]
    },
    {
      "cell_type": "code",
      "execution_count": null,
      "metadata": {},
      "outputs": [],
      "source": [
        "fig = px.scatter(real_df, x='precipitation', y='elevation', color='lumpy',\n",
        "                 hover_data=['country'], title='Precipitation vs. Altitude')\n",
        "fig.show()"
      ]
    },
    {
      "cell_type": "markdown",
      "metadata": {},
      "source": [
        "Here we observe a strong corelation between daily mean temperature and percipitation. Also note that elevation and percipitation are negatively corelated."
      ]
    },
    {
      "cell_type": "code",
      "execution_count": 21,
      "metadata": {},
      "outputs": [
        {
          "data": {
            "image/png": "[encoded data removed]",
            "text/plain": [
              "<Figure size 640x480 with 2 Axes>"
            ]
          },
          "metadata": {},
          "output_type": "display_data"
        }
      ],
      "source": [
        "correlation_matrix = real_df[['precipitation', 'tmn', 'elevation']].corr()\n",
        "sns.heatmap(correlation_matrix, annot=True, cmap='coolwarm')\n",
        "plt.title('Correlation Heatmap')\n",
        "plt.show()\n"
      ]
    },
    {
      "cell_type": "markdown",
      "metadata": {
        "id": "uZq8U5moShzx"
      },
      "source": [
        "**ENCODING**"
      ]
    },
    {
      "cell_type": "markdown",
      "metadata": {},
      "source": [
        "'Region' column contains the names of the continents of each data point, therefore it is a categorical variable. We can encode this column using one hot encoding."
      ]
    },
    {
      "cell_type": "code",
      "execution_count": 102,
      "metadata": {},
      "outputs": [
        {
          "data": {
            "text/html": [
              "<div>\n",
              "<style scoped>\n",
              "    .dataframe tbody tr th:only-of-type {\n",
              "        vertical-align: middle;\n",
              "    }\n",
              "\n",
              "    .dataframe tbody tr th {\n",
              "        vertical-align: top;\n",
              "    }\n",
              "\n",
              "    .dataframe thead th {\n",
              "        text-align: right;\n",
              "    }\n",
              "</style>\n",
              "<table border=\"1\" class=\"dataframe\">\n",
              "  <thead>\n",
              "    <tr style=\"text-align: right;\">\n",
              "      <th></th>\n",
              "      <th>cloud_cover</th>\n",
              "      <th>diurnal_temperature_range</th>\n",
              "      <th>frost_day_frequency</th>\n",
              "      <th>evapotranspiration</th>\n",
              "      <th>precipitation</th>\n",
              "      <th>tmn</th>\n",
              "      <th>tmp</th>\n",
              "      <th>tmx</th>\n",
              "      <th>vap</th>\n",
              "      <th>wet_day</th>\n",
              "      <th>elevation</th>\n",
              "      <th>dominant_land_cover</th>\n",
              "      <th>region</th>\n",
              "    </tr>\n",
              "  </thead>\n",
              "  <tbody>\n",
              "    <tr>\n",
              "      <th>0</th>\n",
              "      <td>41.6</td>\n",
              "      <td>12.8</td>\n",
              "      <td>0.00</td>\n",
              "      <td>2.3</td>\n",
              "      <td>1.7</td>\n",
              "      <td>12.7</td>\n",
              "      <td>19.1</td>\n",
              "      <td>25.5</td>\n",
              "      <td>15.7</td>\n",
              "      <td>0.00</td>\n",
              "      <td>147</td>\n",
              "      <td>2</td>\n",
              "      <td>Asia</td>\n",
              "    </tr>\n",
              "    <tr>\n",
              "      <th>1</th>\n",
              "      <td>40.5</td>\n",
              "      <td>13.3</td>\n",
              "      <td>0.00</td>\n",
              "      <td>2.4</td>\n",
              "      <td>0.0</td>\n",
              "      <td>13.2</td>\n",
              "      <td>19.8</td>\n",
              "      <td>26.5</td>\n",
              "      <td>16.3</td>\n",
              "      <td>0.00</td>\n",
              "      <td>145</td>\n",
              "      <td>2</td>\n",
              "      <td>Asia</td>\n",
              "    </tr>\n",
              "    <tr>\n",
              "      <th>2</th>\n",
              "      <td>27.3</td>\n",
              "      <td>13.6</td>\n",
              "      <td>0.08</td>\n",
              "      <td>2.3</td>\n",
              "      <td>0.6</td>\n",
              "      <td>9.4</td>\n",
              "      <td>16.2</td>\n",
              "      <td>23.0</td>\n",
              "      <td>13.0</td>\n",
              "      <td>0.98</td>\n",
              "      <td>158</td>\n",
              "      <td>2</td>\n",
              "      <td>Asia</td>\n",
              "    </tr>\n",
              "    <tr>\n",
              "      <th>3</th>\n",
              "      <td>45.3</td>\n",
              "      <td>12.8</td>\n",
              "      <td>31.00</td>\n",
              "      <td>0.4</td>\n",
              "      <td>8.8</td>\n",
              "      <td>-22.5</td>\n",
              "      <td>-16.1</td>\n",
              "      <td>-9.7</td>\n",
              "      <td>0.9</td>\n",
              "      <td>4.64</td>\n",
              "      <td>178</td>\n",
              "      <td>2</td>\n",
              "      <td>Asia</td>\n",
              "    </tr>\n",
              "    <tr>\n",
              "      <th>4</th>\n",
              "      <td>38.8</td>\n",
              "      <td>13.2</td>\n",
              "      <td>31.00</td>\n",
              "      <td>0.4</td>\n",
              "      <td>10.5</td>\n",
              "      <td>-20.4</td>\n",
              "      <td>-13.8</td>\n",
              "      <td>-7.2</td>\n",
              "      <td>1.2</td>\n",
              "      <td>1.69</td>\n",
              "      <td>185</td>\n",
              "      <td>3</td>\n",
              "      <td>Asia</td>\n",
              "    </tr>\n",
              "  </tbody>\n",
              "</table>\n",
              "</div>"
            ],
            "text/plain": [
              "   cloud_cover  diurnal_temperature_range  frost_day_frequency  \\\n",
              "0         41.6                       12.8                 0.00   \n",
              "1         40.5                       13.3                 0.00   \n",
              "2         27.3                       13.6                 0.08   \n",
              "3         45.3                       12.8                31.00   \n",
              "4         38.8                       13.2                31.00   \n",
              "\n",
              "   evapotranspiration  precipitation   tmn   tmp   tmx   vap  wet_day  \\\n",
              "0                 2.3            1.7  12.7  19.1  25.5  15.7     0.00   \n",
              "1                 2.4            0.0  13.2  19.8  26.5  16.3     0.00   \n",
              "2                 2.3            0.6   9.4  16.2  23.0  13.0     0.98   \n",
              "3                 0.4            8.8 -22.5 -16.1  -9.7   0.9     4.64   \n",
              "4                 0.4           10.5 -20.4 -13.8  -7.2   1.2     1.69   \n",
              "\n",
              "   elevation  dominant_land_cover region  \n",
              "0        147                    2   Asia  \n",
              "1        145                    2   Asia  \n",
              "2        158                    2   Asia  \n",
              "3        178                    2   Asia  \n",
              "4        185                    3   Asia  "
            ]
          },
          "execution_count": 102,
          "metadata": {},
          "output_type": "execute_result"
        }
      ],
      "source": [
        "newdf.head()"
      ]
    },
    {
      "cell_type": "code",
      "execution_count": 135,
      "metadata": {},
      "outputs": [],
      "source": [
        "newdf = real_df[['cloud_cover', 'diurnal_temperature_range', 'frost_day_frequency',\n",
        "       'evapotranspiration', 'precipitation', 'tmn', 'tmp', 'tmx', 'vap',\n",
        "       'wet_day', 'elevation', 'dominant_land_cover', 'region']]"
      ]
    },
    {
      "cell_type": "code",
      "execution_count": 114,
      "metadata": {},
      "outputs": [
        {
          "data": {
            "text/plain": [
              "Index(['Unnamed: 0', 'longitude', 'lat', 'cloud_cover',\n",
              "       'diurnal_temperature_range', 'frost_day_frequency',\n",
              "       'evapotranspiration', 'precipitation', 'tmn', 'tmp', 'tmx', 'vap',\n",
              "       'wet_day', 'elevation', 'dominant_land_cover', 'X5_Ct_2010_Da',\n",
              "       'X5_Bf_2010_Da', 'lumpy', 'country', 'region'],\n",
              "      dtype='object')"
            ]
          },
          "execution_count": 114,
          "metadata": {},
          "output_type": "execute_result"
        }
      ],
      "source": [
        "real_df.columns"
      ]
    },
    {
      "cell_type": "code",
      "execution_count": 152,
      "metadata": {},
      "outputs": [
        {
          "data": {
            "text/plain": [
              "12"
            ]
          },
          "execution_count": 152,
          "metadata": {},
          "output_type": "execute_result"
        }
      ],
      "source": [
        "index_no = newdf.columns.get_loc('region')\n",
        "index_no"
      ]
    },
    {
      "cell_type": "code",
      "execution_count": 155,
      "metadata": {},
      "outputs": [],
      "source": [
        "from sklearn.compose import ColumnTransformer\n",
        "from sklearn.preprocessing import OneHotEncoder\n",
        "from sklearn.pipeline import Pipeline\n",
        "ct = ColumnTransformer([('ohe',OneHotEncoder(),[12])],remainder= \"passthrough\")\n"
      ]
    },
    {
      "cell_type": "code",
      "execution_count": 156,
      "metadata": {},
      "outputs": [
        {
          "data": {
            "text/plain": [
              "array([[  0.  ,   1.  ,   0.  , ...,   0.  , 147.  ,   2.  ],\n",
              "       [  0.  ,   1.  ,   0.  , ...,   0.  , 145.  ,   2.  ],\n",
              "       [  0.  ,   1.  ,   0.  , ...,   0.98, 158.  ,   2.  ],\n",
              "       ...,\n",
              "       [  1.  ,   0.  ,   0.  , ...,  15.87, 178.  ,   5.  ],\n",
              "       [  1.  ,   0.  ,   0.  , ...,  16.3 , 180.  ,   3.  ],\n",
              "       [  1.  ,   0.  ,   0.  , ...,  16.67, 179.  ,   3.  ]])"
            ]
          },
          "execution_count": 156,
          "metadata": {},
          "output_type": "execute_result"
        }
      ],
      "source": [
        "real_df = ct.fit_transform(newdf)\n",
        "real_df"
      ]
    },
    {
      "cell_type": "markdown",
      "metadata": {
        "id": "pw99-fOmI2X6"
      },
      "source": [
        "**SCALING**"
      ]
    },
    {
      "cell_type": "markdown",
      "metadata": {},
      "source": [
        "Dividing the dataset into independent and the dependent dataset."
      ]
    },
    {
      "cell_type": "code",
      "execution_count": 117,
      "metadata": {
        "id": "q-4VaCMyI4S9"
      },
      "outputs": [],
      "source": [
        "X = real_df[['cloud_cover',\n",
        "       'diurnal_temperature_range', 'frost_day_frequency',\n",
        "       'evapotranspiration', 'precipitation', 'tmn', 'tmp', 'tmx', 'vap',\n",
        "       'wet_day', 'elevation', 'dominant_land_cover','region']]\n",
        "Y = real_df['lumpy']"
      ]
    },
    {
      "cell_type": "markdown",
      "metadata": {},
      "source": [
        "The dataset is further divided into test and train with a 70-30 ratio."
      ]
    },
    {
      "cell_type": "code",
      "execution_count": 118,
      "metadata": {
        "id": "S6PYI6kcJMVh"
      },
      "outputs": [],
      "source": [
        "from sklearn.model_selection import train_test_split\n",
        "xTrain, xTest, yTrain, yTest = train_test_split(X, Y,\n",
        "                                               test_size=0.30,\n",
        "                                               random_state=2)"
      ]
    },
    {
      "cell_type": "markdown",
      "metadata": {},
      "source": [
        "Now that we are done with cleaning, encoding and cleaning we need to scale our variables before the data enters the model."
      ]
    },
    {
      "cell_type": "code",
      "execution_count": 139,
      "metadata": {
        "id": "qYzwsIGyJIzY"
      },
      "outputs": [
        {
          "ename": "ValueError",
          "evalue": "could not convert string to float: 'Asia'",
          "output_type": "error",
          "traceback": [
            "\u001b[1;31m---------------------------------------------------------------------------\u001b[0m",
            "\u001b[1;31mValueError\u001b[0m                                Traceback (most recent call last)",
            "\u001b[1;32m~\\AppData\\Local\\Temp\\ipykernel_26308\\1523501611.py\u001b[0m in \u001b[0;36m?\u001b[1;34m()\u001b[0m\n\u001b[0;32m      2\u001b[0m \u001b[1;32mfrom\u001b[0m \u001b[0msklearn\u001b[0m\u001b[1;33m.\u001b[0m\u001b[0mpreprocessing\u001b[0m \u001b[1;32mimport\u001b[0m \u001b[0mMinMaxScaler\u001b[0m\u001b[1;33m\u001b[0m\u001b[1;33m\u001b[0m\u001b[0m\n\u001b[0;32m      3\u001b[0m \u001b[1;33m\u001b[0m\u001b[0m\n\u001b[0;32m      4\u001b[0m \u001b[1;31m# Instantiate MinMaxScaler and use it to rescale X_train and X_test\u001b[0m\u001b[1;33m\u001b[0m\u001b[1;33m\u001b[0m\u001b[0m\n\u001b[0;32m      5\u001b[0m \u001b[0mscaler\u001b[0m \u001b[1;33m=\u001b[0m \u001b[0mMinMaxScaler\u001b[0m\u001b[1;33m(\u001b[0m\u001b[0mfeature_range\u001b[0m\u001b[1;33m=\u001b[0m\u001b[1;33m(\u001b[0m\u001b[1;36m0\u001b[0m\u001b[1;33m,\u001b[0m\u001b[1;36m1\u001b[0m\u001b[1;33m)\u001b[0m\u001b[1;33m)\u001b[0m\u001b[1;33m\u001b[0m\u001b[1;33m\u001b[0m\u001b[0m\n\u001b[1;32m----> 6\u001b[1;33m \u001b[0mrescaledX_train\u001b[0m \u001b[1;33m=\u001b[0m \u001b[0mscaler\u001b[0m\u001b[1;33m.\u001b[0m\u001b[0mfit_transform\u001b[0m\u001b[1;33m(\u001b[0m\u001b[0mxTrain\u001b[0m\u001b[1;33m)\u001b[0m\u001b[1;33m\u001b[0m\u001b[1;33m\u001b[0m\u001b[0m\n\u001b[0m\u001b[0;32m      7\u001b[0m \u001b[0mrescaledX_test\u001b[0m \u001b[1;33m=\u001b[0m \u001b[0mscaler\u001b[0m\u001b[1;33m.\u001b[0m\u001b[0mfit_transform\u001b[0m\u001b[1;33m(\u001b[0m\u001b[0mxTest\u001b[0m\u001b[1;33m)\u001b[0m\u001b[1;33m\u001b[0m\u001b[1;33m\u001b[0m\u001b[0m\n",
            "\u001b[1;32m~\\AppData\\Local\\Packages\\PythonSoftwareFoundation.Python.3.11_qbz5n2kfra8p0\\LocalCache\\local-packages\\Python311\\site-packages\\sklearn\\utils\\_set_output.py\u001b[0m in \u001b[0;36m?\u001b[1;34m(self, X, *args, **kwargs)\u001b[0m\n\u001b[0;32m    138\u001b[0m     \u001b[1;33m@\u001b[0m\u001b[0mwraps\u001b[0m\u001b[1;33m(\u001b[0m\u001b[0mf\u001b[0m\u001b[1;33m)\u001b[0m\u001b[1;33m\u001b[0m\u001b[1;33m\u001b[0m\u001b[0m\n\u001b[0;32m    139\u001b[0m     \u001b[1;32mdef\u001b[0m \u001b[0mwrapped\u001b[0m\u001b[1;33m(\u001b[0m\u001b[0mself\u001b[0m\u001b[1;33m,\u001b[0m \u001b[0mX\u001b[0m\u001b[1;33m,\u001b[0m \u001b[1;33m*\u001b[0m\u001b[0margs\u001b[0m\u001b[1;33m,\u001b[0m \u001b[1;33m**\u001b[0m\u001b[0mkwargs\u001b[0m\u001b[1;33m)\u001b[0m\u001b[1;33m:\u001b[0m\u001b[1;33m\u001b[0m\u001b[1;33m\u001b[0m\u001b[0m\n\u001b[1;32m--> 140\u001b[1;33m         \u001b[0mdata_to_wrap\u001b[0m \u001b[1;33m=\u001b[0m \u001b[0mf\u001b[0m\u001b[1;33m(\u001b[0m\u001b[0mself\u001b[0m\u001b[1;33m,\u001b[0m \u001b[0mX\u001b[0m\u001b[1;33m,\u001b[0m \u001b[1;33m*\u001b[0m\u001b[0margs\u001b[0m\u001b[1;33m,\u001b[0m \u001b[1;33m**\u001b[0m\u001b[0mkwargs\u001b[0m\u001b[1;33m)\u001b[0m\u001b[1;33m\u001b[0m\u001b[1;33m\u001b[0m\u001b[0m\n\u001b[0m\u001b[0;32m    141\u001b[0m         \u001b[1;32mif\u001b[0m \u001b[0misinstance\u001b[0m\u001b[1;33m(\u001b[0m\u001b[0mdata_to_wrap\u001b[0m\u001b[1;33m,\u001b[0m \u001b[0mtuple\u001b[0m\u001b[1;33m)\u001b[0m\u001b[1;33m:\u001b[0m\u001b[1;33m\u001b[0m\u001b[1;33m\u001b[0m\u001b[0m\n\u001b[0;32m    142\u001b[0m             \u001b[1;31m# only wrap the first output for cross decomposition\u001b[0m\u001b[1;33m\u001b[0m\u001b[1;33m\u001b[0m\u001b[0m\n\u001b[0;32m    143\u001b[0m             return_tuple = (\n",
            "\u001b[1;32m~\\AppData\\Local\\Packages\\PythonSoftwareFoundation.Python.3.11_qbz5n2kfra8p0\\LocalCache\\local-packages\\Python311\\site-packages\\sklearn\\base.py\u001b[0m in \u001b[0;36m?\u001b[1;34m(self, X, y, **fit_params)\u001b[0m\n\u001b[0;32m    911\u001b[0m         \u001b[1;31m# non-optimized default implementation; override when a better\u001b[0m\u001b[1;33m\u001b[0m\u001b[1;33m\u001b[0m\u001b[0m\n\u001b[0;32m    912\u001b[0m         \u001b[1;31m# method is possible for a given clustering algorithm\u001b[0m\u001b[1;33m\u001b[0m\u001b[1;33m\u001b[0m\u001b[0m\n\u001b[0;32m    913\u001b[0m         \u001b[1;32mif\u001b[0m \u001b[0my\u001b[0m \u001b[1;32mis\u001b[0m \u001b[1;32mNone\u001b[0m\u001b[1;33m:\u001b[0m\u001b[1;33m\u001b[0m\u001b[1;33m\u001b[0m\u001b[0m\n\u001b[0;32m    914\u001b[0m             \u001b[1;31m# fit method of arity 1 (unsupervised transformation)\u001b[0m\u001b[1;33m\u001b[0m\u001b[1;33m\u001b[0m\u001b[0m\n\u001b[1;32m--> 915\u001b[1;33m             \u001b[1;32mreturn\u001b[0m \u001b[0mself\u001b[0m\u001b[1;33m.\u001b[0m\u001b[0mfit\u001b[0m\u001b[1;33m(\u001b[0m\u001b[0mX\u001b[0m\u001b[1;33m,\u001b[0m \u001b[1;33m**\u001b[0m\u001b[0mfit_params\u001b[0m\u001b[1;33m)\u001b[0m\u001b[1;33m.\u001b[0m\u001b[0mtransform\u001b[0m\u001b[1;33m(\u001b[0m\u001b[0mX\u001b[0m\u001b[1;33m)\u001b[0m\u001b[1;33m\u001b[0m\u001b[1;33m\u001b[0m\u001b[0m\n\u001b[0m\u001b[0;32m    916\u001b[0m         \u001b[1;32melse\u001b[0m\u001b[1;33m:\u001b[0m\u001b[1;33m\u001b[0m\u001b[1;33m\u001b[0m\u001b[0m\n\u001b[0;32m    917\u001b[0m             \u001b[1;31m# fit method of arity 2 (supervised transformation)\u001b[0m\u001b[1;33m\u001b[0m\u001b[1;33m\u001b[0m\u001b[0m\n\u001b[0;32m    918\u001b[0m             \u001b[1;32mreturn\u001b[0m \u001b[0mself\u001b[0m\u001b[1;33m.\u001b[0m\u001b[0mfit\u001b[0m\u001b[1;33m(\u001b[0m\u001b[0mX\u001b[0m\u001b[1;33m,\u001b[0m \u001b[0my\u001b[0m\u001b[1;33m,\u001b[0m \u001b[1;33m**\u001b[0m\u001b[0mfit_params\u001b[0m\u001b[1;33m)\u001b[0m\u001b[1;33m.\u001b[0m\u001b[0mtransform\u001b[0m\u001b[1;33m(\u001b[0m\u001b[0mX\u001b[0m\u001b[1;33m)\u001b[0m\u001b[1;33m\u001b[0m\u001b[1;33m\u001b[0m\u001b[0m\n",
            "\u001b[1;32m~\\AppData\\Local\\Packages\\PythonSoftwareFoundation.Python.3.11_qbz5n2kfra8p0\\LocalCache\\local-packages\\Python311\\site-packages\\sklearn\\preprocessing\\_data.py\u001b[0m in \u001b[0;36m?\u001b[1;34m(self, X, y)\u001b[0m\n\u001b[0;32m    430\u001b[0m             \u001b[0mFitted\u001b[0m \u001b[0mscaler\u001b[0m\u001b[1;33m.\u001b[0m\u001b[1;33m\u001b[0m\u001b[1;33m\u001b[0m\u001b[0m\n\u001b[0;32m    431\u001b[0m         \"\"\"\n\u001b[0;32m    432\u001b[0m         \u001b[1;31m# Reset internal state before fitting\u001b[0m\u001b[1;33m\u001b[0m\u001b[1;33m\u001b[0m\u001b[0m\n\u001b[0;32m    433\u001b[0m         \u001b[0mself\u001b[0m\u001b[1;33m.\u001b[0m\u001b[0m_reset\u001b[0m\u001b[1;33m(\u001b[0m\u001b[1;33m)\u001b[0m\u001b[1;33m\u001b[0m\u001b[1;33m\u001b[0m\u001b[0m\n\u001b[1;32m--> 434\u001b[1;33m         \u001b[1;32mreturn\u001b[0m \u001b[0mself\u001b[0m\u001b[1;33m.\u001b[0m\u001b[0mpartial_fit\u001b[0m\u001b[1;33m(\u001b[0m\u001b[0mX\u001b[0m\u001b[1;33m,\u001b[0m \u001b[0my\u001b[0m\u001b[1;33m)\u001b[0m\u001b[1;33m\u001b[0m\u001b[1;33m\u001b[0m\u001b[0m\n\u001b[0m",
            "\u001b[1;32m~\\AppData\\Local\\Packages\\PythonSoftwareFoundation.Python.3.11_qbz5n2kfra8p0\\LocalCache\\local-packages\\Python311\\site-packages\\sklearn\\base.py\u001b[0m in \u001b[0;36m?\u001b[1;34m(estimator, *args, **kwargs)\u001b[0m\n\u001b[0;32m   1147\u001b[0m                 skip_parameter_validation=(\n\u001b[0;32m   1148\u001b[0m                     \u001b[0mprefer_skip_nested_validation\u001b[0m \u001b[1;32mor\u001b[0m \u001b[0mglobal_skip_validation\u001b[0m\u001b[1;33m\u001b[0m\u001b[1;33m\u001b[0m\u001b[0m\n\u001b[0;32m   1149\u001b[0m                 )\n\u001b[0;32m   1150\u001b[0m             ):\n\u001b[1;32m-> 1151\u001b[1;33m                 \u001b[1;32mreturn\u001b[0m \u001b[0mfit_method\u001b[0m\u001b[1;33m(\u001b[0m\u001b[0mestimator\u001b[0m\u001b[1;33m,\u001b[0m \u001b[1;33m*\u001b[0m\u001b[0margs\u001b[0m\u001b[1;33m,\u001b[0m \u001b[1;33m**\u001b[0m\u001b[0mkwargs\u001b[0m\u001b[1;33m)\u001b[0m\u001b[1;33m\u001b[0m\u001b[1;33m\u001b[0m\u001b[0m\n\u001b[0m",
            "\u001b[1;32m~\\AppData\\Local\\Packages\\PythonSoftwareFoundation.Python.3.11_qbz5n2kfra8p0\\LocalCache\\local-packages\\Python311\\site-packages\\sklearn\\preprocessing\\_data.py\u001b[0m in \u001b[0;36m?\u001b[1;34m(self, X, y)\u001b[0m\n\u001b[0;32m    468\u001b[0m                 \u001b[1;34m\"Consider using MaxAbsScaler instead.\"\u001b[0m\u001b[1;33m\u001b[0m\u001b[1;33m\u001b[0m\u001b[0m\n\u001b[0;32m    469\u001b[0m             )\n\u001b[0;32m    470\u001b[0m \u001b[1;33m\u001b[0m\u001b[0m\n\u001b[0;32m    471\u001b[0m         \u001b[0mfirst_pass\u001b[0m \u001b[1;33m=\u001b[0m \u001b[1;32mnot\u001b[0m \u001b[0mhasattr\u001b[0m\u001b[1;33m(\u001b[0m\u001b[0mself\u001b[0m\u001b[1;33m,\u001b[0m \u001b[1;34m\"n_samples_seen_\"\u001b[0m\u001b[1;33m)\u001b[0m\u001b[1;33m\u001b[0m\u001b[1;33m\u001b[0m\u001b[0m\n\u001b[1;32m--> 472\u001b[1;33m         X = self._validate_data(\n\u001b[0m\u001b[0;32m    473\u001b[0m             \u001b[0mX\u001b[0m\u001b[1;33m,\u001b[0m\u001b[1;33m\u001b[0m\u001b[1;33m\u001b[0m\u001b[0m\n\u001b[0;32m    474\u001b[0m             \u001b[0mreset\u001b[0m\u001b[1;33m=\u001b[0m\u001b[0mfirst_pass\u001b[0m\u001b[1;33m,\u001b[0m\u001b[1;33m\u001b[0m\u001b[1;33m\u001b[0m\u001b[0m\n\u001b[0;32m    475\u001b[0m             \u001b[0mdtype\u001b[0m\u001b[1;33m=\u001b[0m\u001b[0mFLOAT_DTYPES\u001b[0m\u001b[1;33m,\u001b[0m\u001b[1;33m\u001b[0m\u001b[1;33m\u001b[0m\u001b[0m\n",
            "\u001b[1;32m~\\AppData\\Local\\Packages\\PythonSoftwareFoundation.Python.3.11_qbz5n2kfra8p0\\LocalCache\\local-packages\\Python311\\site-packages\\sklearn\\base.py\u001b[0m in \u001b[0;36m?\u001b[1;34m(self, X, y, reset, validate_separately, cast_to_ndarray, **check_params)\u001b[0m\n\u001b[0;32m    600\u001b[0m                 \u001b[0mout\u001b[0m \u001b[1;33m=\u001b[0m \u001b[0my\u001b[0m\u001b[1;33m\u001b[0m\u001b[1;33m\u001b[0m\u001b[0m\n\u001b[0;32m    601\u001b[0m             \u001b[1;32melse\u001b[0m\u001b[1;33m:\u001b[0m\u001b[1;33m\u001b[0m\u001b[1;33m\u001b[0m\u001b[0m\n\u001b[0;32m    602\u001b[0m                 \u001b[0mout\u001b[0m \u001b[1;33m=\u001b[0m \u001b[0mX\u001b[0m\u001b[1;33m,\u001b[0m \u001b[0my\u001b[0m\u001b[1;33m\u001b[0m\u001b[1;33m\u001b[0m\u001b[0m\n\u001b[0;32m    603\u001b[0m         \u001b[1;32melif\u001b[0m \u001b[1;32mnot\u001b[0m \u001b[0mno_val_X\u001b[0m \u001b[1;32mand\u001b[0m \u001b[0mno_val_y\u001b[0m\u001b[1;33m:\u001b[0m\u001b[1;33m\u001b[0m\u001b[1;33m\u001b[0m\u001b[0m\n\u001b[1;32m--> 604\u001b[1;33m             \u001b[0mout\u001b[0m \u001b[1;33m=\u001b[0m \u001b[0mcheck_array\u001b[0m\u001b[1;33m(\u001b[0m\u001b[0mX\u001b[0m\u001b[1;33m,\u001b[0m \u001b[0minput_name\u001b[0m\u001b[1;33m=\u001b[0m\u001b[1;34m\"X\"\u001b[0m\u001b[1;33m,\u001b[0m \u001b[1;33m**\u001b[0m\u001b[0mcheck_params\u001b[0m\u001b[1;33m)\u001b[0m\u001b[1;33m\u001b[0m\u001b[1;33m\u001b[0m\u001b[0m\n\u001b[0m\u001b[0;32m    605\u001b[0m         \u001b[1;32melif\u001b[0m \u001b[0mno_val_X\u001b[0m \u001b[1;32mand\u001b[0m \u001b[1;32mnot\u001b[0m \u001b[0mno_val_y\u001b[0m\u001b[1;33m:\u001b[0m\u001b[1;33m\u001b[0m\u001b[1;33m\u001b[0m\u001b[0m\n\u001b[0;32m    606\u001b[0m             \u001b[0mout\u001b[0m \u001b[1;33m=\u001b[0m \u001b[0m_check_y\u001b[0m\u001b[1;33m(\u001b[0m\u001b[0my\u001b[0m\u001b[1;33m,\u001b[0m \u001b[1;33m**\u001b[0m\u001b[0mcheck_params\u001b[0m\u001b[1;33m)\u001b[0m\u001b[1;33m\u001b[0m\u001b[1;33m\u001b[0m\u001b[0m\n\u001b[0;32m    607\u001b[0m         \u001b[1;32melse\u001b[0m\u001b[1;33m:\u001b[0m\u001b[1;33m\u001b[0m\u001b[1;33m\u001b[0m\u001b[0m\n",
            "\u001b[1;32m~\\AppData\\Local\\Packages\\PythonSoftwareFoundation.Python.3.11_qbz5n2kfra8p0\\LocalCache\\local-packages\\Python311\\site-packages\\sklearn\\utils\\validation.py\u001b[0m in \u001b[0;36m?\u001b[1;34m(array, accept_sparse, accept_large_sparse, dtype, order, copy, force_all_finite, ensure_2d, allow_nd, ensure_min_samples, ensure_min_features, estimator, input_name)\u001b[0m\n\u001b[0;32m    914\u001b[0m                         )\n\u001b[0;32m    915\u001b[0m                     \u001b[0marray\u001b[0m \u001b[1;33m=\u001b[0m \u001b[0mxp\u001b[0m\u001b[1;33m.\u001b[0m\u001b[0mastype\u001b[0m\u001b[1;33m(\u001b[0m\u001b[0marray\u001b[0m\u001b[1;33m,\u001b[0m \u001b[0mdtype\u001b[0m\u001b[1;33m,\u001b[0m \u001b[0mcopy\u001b[0m\u001b[1;33m=\u001b[0m\u001b[1;32mFalse\u001b[0m\u001b[1;33m)\u001b[0m\u001b[1;33m\u001b[0m\u001b[1;33m\u001b[0m\u001b[0m\n\u001b[0;32m    916\u001b[0m                 \u001b[1;32melse\u001b[0m\u001b[1;33m:\u001b[0m\u001b[1;33m\u001b[0m\u001b[1;33m\u001b[0m\u001b[0m\n\u001b[0;32m    917\u001b[0m                     \u001b[0marray\u001b[0m \u001b[1;33m=\u001b[0m \u001b[0m_asarray_with_order\u001b[0m\u001b[1;33m(\u001b[0m\u001b[0marray\u001b[0m\u001b[1;33m,\u001b[0m \u001b[0morder\u001b[0m\u001b[1;33m=\u001b[0m\u001b[0morder\u001b[0m\u001b[1;33m,\u001b[0m \u001b[0mdtype\u001b[0m\u001b[1;33m=\u001b[0m\u001b[0mdtype\u001b[0m\u001b[1;33m,\u001b[0m \u001b[0mxp\u001b[0m\u001b[1;33m=\u001b[0m\u001b[0mxp\u001b[0m\u001b[1;33m)\u001b[0m\u001b[1;33m\u001b[0m\u001b[1;33m\u001b[0m\u001b[0m\n\u001b[1;32m--> 918\u001b[1;33m             \u001b[1;32mexcept\u001b[0m \u001b[0mComplexWarning\u001b[0m \u001b[1;32mas\u001b[0m \u001b[0mcomplex_warning\u001b[0m\u001b[1;33m:\u001b[0m\u001b[1;33m\u001b[0m\u001b[1;33m\u001b[0m\u001b[0m\n\u001b[0m\u001b[0;32m    919\u001b[0m                 raise ValueError(\n\u001b[0;32m    920\u001b[0m                     \u001b[1;34m\"Complex data not supported\\n{}\\n\"\u001b[0m\u001b[1;33m.\u001b[0m\u001b[0mformat\u001b[0m\u001b[1;33m(\u001b[0m\u001b[0marray\u001b[0m\u001b[1;33m)\u001b[0m\u001b[1;33m\u001b[0m\u001b[1;33m\u001b[0m\u001b[0m\n\u001b[0;32m    921\u001b[0m                 ) from complex_warning\n",
            "\u001b[1;32m~\\AppData\\Local\\Packages\\PythonSoftwareFoundation.Python.3.11_qbz5n2kfra8p0\\LocalCache\\local-packages\\Python311\\site-packages\\sklearn\\utils\\_array_api.py\u001b[0m in \u001b[0;36m?\u001b[1;34m(array, dtype, order, copy, xp)\u001b[0m\n\u001b[0;32m    376\u001b[0m         \u001b[1;31m# Use NumPy API to support order\u001b[0m\u001b[1;33m\u001b[0m\u001b[1;33m\u001b[0m\u001b[0m\n\u001b[0;32m    377\u001b[0m         \u001b[1;32mif\u001b[0m \u001b[0mcopy\u001b[0m \u001b[1;32mis\u001b[0m \u001b[1;32mTrue\u001b[0m\u001b[1;33m:\u001b[0m\u001b[1;33m\u001b[0m\u001b[1;33m\u001b[0m\u001b[0m\n\u001b[0;32m    378\u001b[0m             \u001b[0marray\u001b[0m \u001b[1;33m=\u001b[0m \u001b[0mnumpy\u001b[0m\u001b[1;33m.\u001b[0m\u001b[0marray\u001b[0m\u001b[1;33m(\u001b[0m\u001b[0marray\u001b[0m\u001b[1;33m,\u001b[0m \u001b[0morder\u001b[0m\u001b[1;33m=\u001b[0m\u001b[0morder\u001b[0m\u001b[1;33m,\u001b[0m \u001b[0mdtype\u001b[0m\u001b[1;33m=\u001b[0m\u001b[0mdtype\u001b[0m\u001b[1;33m)\u001b[0m\u001b[1;33m\u001b[0m\u001b[1;33m\u001b[0m\u001b[0m\n\u001b[0;32m    379\u001b[0m         \u001b[1;32melse\u001b[0m\u001b[1;33m:\u001b[0m\u001b[1;33m\u001b[0m\u001b[1;33m\u001b[0m\u001b[0m\n\u001b[1;32m--> 380\u001b[1;33m             \u001b[0marray\u001b[0m \u001b[1;33m=\u001b[0m \u001b[0mnumpy\u001b[0m\u001b[1;33m.\u001b[0m\u001b[0masarray\u001b[0m\u001b[1;33m(\u001b[0m\u001b[0marray\u001b[0m\u001b[1;33m,\u001b[0m \u001b[0morder\u001b[0m\u001b[1;33m=\u001b[0m\u001b[0morder\u001b[0m\u001b[1;33m,\u001b[0m \u001b[0mdtype\u001b[0m\u001b[1;33m=\u001b[0m\u001b[0mdtype\u001b[0m\u001b[1;33m)\u001b[0m\u001b[1;33m\u001b[0m\u001b[1;33m\u001b[0m\u001b[0m\n\u001b[0m\u001b[0;32m    381\u001b[0m \u001b[1;33m\u001b[0m\u001b[0m\n\u001b[0;32m    382\u001b[0m         \u001b[1;31m# At this point array is a NumPy ndarray. We convert it to an array\u001b[0m\u001b[1;33m\u001b[0m\u001b[1;33m\u001b[0m\u001b[0m\n\u001b[0;32m    383\u001b[0m         \u001b[1;31m# container that is consistent with the input's namespace.\u001b[0m\u001b[1;33m\u001b[0m\u001b[1;33m\u001b[0m\u001b[0m\n",
            "\u001b[1;32m~\\AppData\\Local\\Packages\\PythonSoftwareFoundation.Python.3.11_qbz5n2kfra8p0\\LocalCache\\local-packages\\Python311\\site-packages\\pandas\\core\\generic.py\u001b[0m in \u001b[0;36m?\u001b[1;34m(self, dtype)\u001b[0m\n\u001b[0;32m   1996\u001b[0m     \u001b[1;32mdef\u001b[0m \u001b[0m__array__\u001b[0m\u001b[1;33m(\u001b[0m\u001b[0mself\u001b[0m\u001b[1;33m,\u001b[0m \u001b[0mdtype\u001b[0m\u001b[1;33m:\u001b[0m \u001b[0mnpt\u001b[0m\u001b[1;33m.\u001b[0m\u001b[0mDTypeLike\u001b[0m \u001b[1;33m|\u001b[0m \u001b[1;32mNone\u001b[0m \u001b[1;33m=\u001b[0m \u001b[1;32mNone\u001b[0m\u001b[1;33m)\u001b[0m \u001b[1;33m->\u001b[0m \u001b[0mnp\u001b[0m\u001b[1;33m.\u001b[0m\u001b[0mndarray\u001b[0m\u001b[1;33m:\u001b[0m\u001b[1;33m\u001b[0m\u001b[1;33m\u001b[0m\u001b[0m\n\u001b[0;32m   1997\u001b[0m         \u001b[0mvalues\u001b[0m \u001b[1;33m=\u001b[0m \u001b[0mself\u001b[0m\u001b[1;33m.\u001b[0m\u001b[0m_values\u001b[0m\u001b[1;33m\u001b[0m\u001b[1;33m\u001b[0m\u001b[0m\n\u001b[1;32m-> 1998\u001b[1;33m         \u001b[0marr\u001b[0m \u001b[1;33m=\u001b[0m \u001b[0mnp\u001b[0m\u001b[1;33m.\u001b[0m\u001b[0masarray\u001b[0m\u001b[1;33m(\u001b[0m\u001b[0mvalues\u001b[0m\u001b[1;33m,\u001b[0m \u001b[0mdtype\u001b[0m\u001b[1;33m=\u001b[0m\u001b[0mdtype\u001b[0m\u001b[1;33m)\u001b[0m\u001b[1;33m\u001b[0m\u001b[1;33m\u001b[0m\u001b[0m\n\u001b[0m\u001b[0;32m   1999\u001b[0m         if (\n\u001b[0;32m   2000\u001b[0m             \u001b[0mastype_is_view\u001b[0m\u001b[1;33m(\u001b[0m\u001b[0mvalues\u001b[0m\u001b[1;33m.\u001b[0m\u001b[0mdtype\u001b[0m\u001b[1;33m,\u001b[0m \u001b[0marr\u001b[0m\u001b[1;33m.\u001b[0m\u001b[0mdtype\u001b[0m\u001b[1;33m)\u001b[0m\u001b[1;33m\u001b[0m\u001b[1;33m\u001b[0m\u001b[0m\n\u001b[0;32m   2001\u001b[0m             \u001b[1;32mand\u001b[0m \u001b[0musing_copy_on_write\u001b[0m\u001b[1;33m(\u001b[0m\u001b[1;33m)\u001b[0m\u001b[1;33m\u001b[0m\u001b[1;33m\u001b[0m\u001b[0m\n",
            "\u001b[1;31mValueError\u001b[0m: could not convert string to float: 'Asia'"
          ]
        }
      ],
      "source": [
        "# Import MinMaxScaler\n",
        "from sklearn.preprocessing import MinMaxScaler\n",
        "\n",
        "# Instantiate MinMaxScaler and use it to rescale X_train and X_test\n",
        "scaler = MinMaxScaler(feature_range=(0,1))\n",
        "rescaledX_train = scaler.fit_transform(xTrain)\n",
        "rescaledX_test = scaler.fit_transform(xTest)"
      ]
    },
    {
      "cell_type": "markdown",
      "metadata": {
        "id": "WTs132LkIhf0"
      },
      "source": [
        "# **ML**"
      ]
    },
    {
      "cell_type": "markdown",
      "metadata": {},
      "source": [
        "Importing important machine learning libraries."
      ]
    },
    {
      "cell_type": "code",
      "execution_count": 124,
      "metadata": {
        "id": "GkYzTw1gIiu7"
      },
      "outputs": [
        {
          "ename": "ModuleNotFoundError",
          "evalue": "No module named 'xgboost'",
          "output_type": "error",
          "traceback": [
            "\u001b[1;31m---------------------------------------------------------------------------\u001b[0m",
            "\u001b[1;31mModuleNotFoundError\u001b[0m                       Traceback (most recent call last)",
            "Cell \u001b[1;32mIn[124], line 5\u001b[0m\n\u001b[0;32m      3\u001b[0m \u001b[39mfrom\u001b[39;00m \u001b[39msklearn\u001b[39;00m\u001b[39m.\u001b[39;00m\u001b[39mneighbors\u001b[39;00m \u001b[39mimport\u001b[39;00m KNeighborsClassifier\n\u001b[0;32m      4\u001b[0m \u001b[39mfrom\u001b[39;00m \u001b[39mpandas\u001b[39;00m \u001b[39mimport\u001b[39;00m DataFrame\n\u001b[1;32m----> 5\u001b[0m \u001b[39mfrom\u001b[39;00m \u001b[39mxgboost\u001b[39;00m \u001b[39mimport\u001b[39;00m XGBClassifier\n",
            "\u001b[1;31mModuleNotFoundError\u001b[0m: No module named 'xgboost'"
          ]
        }
      ],
      "source": [
        "from sklearn.metrics import accuracy_score\n",
        "from sklearn.tree import DecisionTreeClassifier\n",
        "from sklearn.neighbors import KNeighborsClassifier\n",
        "from pandas import DataFrame\n",
        "from xgboost import XGBClassifier"
      ]
    },
    {
      "cell_type": "markdown",
      "metadata": {},
      "source": [
        "Since the given problem is about classifying one variable with help of other independent variables, we have defined and trained Logistic Regression model on the training dataset."
      ]
    },
    {
      "cell_type": "code",
      "execution_count": 125,
      "metadata": {
        "colab": {
          "base_uri": "https://localhost:8080/",
          "height": 74
        },
        "id": "U0HGWqH2Mqyc",
        "outputId": "4ed3a3f9-9e03-45a1-b124-6c640cd5a050"
      },
      "outputs": [
        {
          "data": {
            "text/html": [
              "<style>#sk-container-id-3 {color: black;}#sk-container-id-3 pre{padding: 0;}#sk-container-id-3 div.sk-toggleable {background-color: white;}#sk-container-id-3 label.sk-toggleable__label {cursor: pointer;display: block;width: 100%;margin-bottom: 0;padding: 0.3em;box-sizing: border-box;text-align: center;}#sk-container-id-3 label.sk-toggleable__label-arrow:before {content: \"▸\";float: left;margin-right: 0.25em;color: #696969;}#sk-container-id-3 label.sk-toggleable__label-arrow:hover:before {color: black;}#sk-container-id-3 div.sk-estimator:hover label.sk-toggleable__label-arrow:before {color: black;}#sk-container-id-3 div.sk-toggleable__content {max-height: 0;max-width: 0;overflow: hidden;text-align: left;background-color: #f0f8ff;}#sk-container-id-3 div.sk-toggleable__content pre {margin: 0.2em;color: black;border-radius: 0.25em;background-color: #f0f8ff;}#sk-container-id-3 input.sk-toggleable__control:checked~div.sk-toggleable__content {max-height: 200px;max-width: 100%;overflow: auto;}#sk-container-id-3 input.sk-toggleable__control:checked~label.sk-toggleable__label-arrow:before {content: \"▾\";}#sk-container-id-3 div.sk-estimator input.sk-toggleable__control:checked~label.sk-toggleable__label {background-color: #d4ebff;}#sk-container-id-3 div.sk-label input.sk-toggleable__control:checked~label.sk-toggleable__label {background-color: #d4ebff;}#sk-container-id-3 input.sk-hidden--visually {border: 0;clip: rect(1px 1px 1px 1px);clip: rect(1px, 1px, 1px, 1px);height: 1px;margin: -1px;overflow: hidden;padding: 0;position: absolute;width: 1px;}#sk-container-id-3 div.sk-estimator {font-family: monospace;background-color: #f0f8ff;border: 1px dotted black;border-radius: 0.25em;box-sizing: border-box;margin-bottom: 0.5em;}#sk-container-id-3 div.sk-estimator:hover {background-color: #d4ebff;}#sk-container-id-3 div.sk-parallel-item::after {content: \"\";width: 100%;border-bottom: 1px solid gray;flex-grow: 1;}#sk-container-id-3 div.sk-label:hover label.sk-toggleable__label {background-color: #d4ebff;}#sk-container-id-3 div.sk-serial::before {content: \"\";position: absolute;border-left: 1px solid gray;box-sizing: border-box;top: 0;bottom: 0;left: 50%;z-index: 0;}#sk-container-id-3 div.sk-serial {display: flex;flex-direction: column;align-items: center;background-color: white;padding-right: 0.2em;padding-left: 0.2em;position: relative;}#sk-container-id-3 div.sk-item {position: relative;z-index: 1;}#sk-container-id-3 div.sk-parallel {display: flex;align-items: stretch;justify-content: center;background-color: white;position: relative;}#sk-container-id-3 div.sk-item::before, #sk-container-id-3 div.sk-parallel-item::before {content: \"\";position: absolute;border-left: 1px solid gray;box-sizing: border-box;top: 0;bottom: 0;left: 50%;z-index: -1;}#sk-container-id-3 div.sk-parallel-item {display: flex;flex-direction: column;z-index: 1;position: relative;background-color: white;}#sk-container-id-3 div.sk-parallel-item:first-child::after {align-self: flex-end;width: 50%;}#sk-container-id-3 div.sk-parallel-item:last-child::after {align-self: flex-start;width: 50%;}#sk-container-id-3 div.sk-parallel-item:only-child::after {width: 0;}#sk-container-id-3 div.sk-dashed-wrapped {border: 1px dashed gray;margin: 0 0.4em 0.5em 0.4em;box-sizing: border-box;padding-bottom: 0.4em;background-color: white;}#sk-container-id-3 div.sk-label label {font-family: monospace;font-weight: bold;display: inline-block;line-height: 1.2em;}#sk-container-id-3 div.sk-label-container {text-align: center;}#sk-container-id-3 div.sk-container {/* jupyter's `normalize.less` sets `[hidden] { display: none; }` but bootstrap.min.css set `[hidden] { display: none !important; }` so we also need the `!important` here to be able to override the default hidden behavior on the sphinx rendered scikit-learn.org. See: https://github.com/scikit-learn/scikit-learn/issues/21755 */display: inline-block !important;position: relative;}#sk-container-id-3 div.sk-text-repr-fallback {display: none;}</style><div id=\"sk-container-id-3\" class=\"sk-top-container\"><div class=\"sk-text-repr-fallback\"><pre>LogisticRegression()</pre><b>In a Jupyter environment, please rerun this cell to show the HTML representation or trust the notebook. <br />On GitHub, the HTML representation is unable to render, please try loading this page with nbviewer.org.</b></div><div class=\"sk-container\" hidden><div class=\"sk-item\"><div class=\"sk-estimator sk-toggleable\"><input class=\"sk-toggleable__control sk-hidden--visually\" id=\"sk-estimator-id-3\" type=\"checkbox\" checked><label for=\"sk-estimator-id-3\" class=\"sk-toggleable__label sk-toggleable__label-arrow\">LogisticRegression</label><div class=\"sk-toggleable__content\"><pre>LogisticRegression()</pre></div></div></div></div></div>"
            ],
            "text/plain": [
              "LogisticRegression()"
            ]
          },
          "execution_count": 125,
          "metadata": {},
          "output_type": "execute_result"
        }
      ],
      "source": [
        "from sklearn.linear_model import LogisticRegression\n",
        "# Instantiate a LogisticRegression classifier with default parameter values\n",
        "logreg = LogisticRegression()\n",
        "logreg.fit(rescaledX_train, yTrain)"
      ]
    },
    {
      "cell_type": "markdown",
      "metadata": {},
      "source": [
        "Here we can finally predict the independent variable using the other variables in the dataset."
      ]
    },
    {
      "cell_type": "code",
      "execution_count": 126,
      "metadata": {
        "id": "rxXiiHg1bsul"
      },
      "outputs": [],
      "source": [
        "from sklearn import metrics\n",
        "y_pred_test_logreg = logreg.predict(rescaledX_test)\n",
        "y_pred_train_logreg = logreg.predict(rescaledX_train)\n"
      ]
    },
    {
      "cell_type": "markdown",
      "metadata": {},
      "source": [
        "Then we calculate the accuracy of the model, using a confusion matrix and accuracy score."
      ]
    },
    {
      "cell_type": "code",
      "execution_count": 128,
      "metadata": {
        "colab": {
          "base_uri": "https://localhost:8080/"
        },
        "id": "VcBlvcd3iUBl",
        "outputId": "674a1cd7-a5ac-4d78-f2c4-7517bac7586f"
      },
      "outputs": [
        {
          "name": "stdout",
          "output_type": "stream",
          "text": [
            "Test: Accuracy =  0.9461093938986695\n",
            "Train: Accuracy =  0.9540375532772722\n",
            "[[6445   74]\n",
            " [ 327  595]]\n"
          ]
        }
      ],
      "source": [
        "print(\"Test: Accuracy = \", logreg.score(rescaledX_test,yTest))\n",
        "print(\"Train: Accuracy = \", logreg.score(rescaledX_train,yTrain))\n",
        "\n",
        "confusion_matrix = metrics.confusion_matrix(yTest,y_pred_test_logreg)\n",
        "print(confusion_matrix)"
      ]
    },
    {
      "cell_type": "markdown",
      "metadata": {},
      "source": [
        "Above code shows that the train accuracy is 95% and the test accuracy is 94% which is satisfactory."
      ]
    },
    {
      "cell_type": "code",
      "execution_count": 157,
      "metadata": {},
      "outputs": [],
      "source": [
        "import pickle\n",
        "pickle.dump(logreg,open('model.pkl','wb') )\n",
        "import pickle\n",
        "pickle.dump(scaler,open('scale.pkl','wb') )"
      ]
    },
    {
      "cell_type": "code",
      "execution_count": 158,
      "metadata": {},
      "outputs": [
        {
          "data": {
            "text/plain": [
              "['column']"
            ]
          },
          "execution_count": 158,
          "metadata": {},
          "output_type": "execute_result"
        }
      ],
      "source": [
        "import joblib\n",
        "joblib.dump(ct,'column')"
      ]
    },
    {
      "cell_type": "code",
      "execution_count": 42,
      "metadata": {},
      "outputs": [
        {
          "data": {
            "text/html": [
              "<div>\n",
              "<style scoped>\n",
              "    .dataframe tbody tr th:only-of-type {\n",
              "        vertical-align: middle;\n",
              "    }\n",
              "\n",
              "    .dataframe tbody tr th {\n",
              "        vertical-align: top;\n",
              "    }\n",
              "\n",
              "    .dataframe thead th {\n",
              "        text-align: right;\n",
              "    }\n",
              "</style>\n",
              "<table border=\"1\" class=\"dataframe\">\n",
              "  <thead>\n",
              "    <tr style=\"text-align: right;\">\n",
              "      <th></th>\n",
              "      <th>Unnamed: 0</th>\n",
              "      <th>longitude</th>\n",
              "      <th>lat</th>\n",
              "      <th>cloud_cover</th>\n",
              "      <th>diurnal_temperature_range</th>\n",
              "      <th>frost_day_frequency</th>\n",
              "      <th>evapotranspiration</th>\n",
              "      <th>precipitation</th>\n",
              "      <th>tmn</th>\n",
              "      <th>tmp</th>\n",
              "      <th>...</th>\n",
              "      <th>wet_day</th>\n",
              "      <th>elevation</th>\n",
              "      <th>dominant_land_cover</th>\n",
              "      <th>X5_Ct_2010_Da</th>\n",
              "      <th>X5_Bf_2010_Da</th>\n",
              "      <th>lumpy</th>\n",
              "      <th>country</th>\n",
              "      <th>region_Africa</th>\n",
              "      <th>region_Asia</th>\n",
              "      <th>region_Europe</th>\n",
              "    </tr>\n",
              "  </thead>\n",
              "  <tbody>\n",
              "    <tr>\n",
              "      <th>0</th>\n",
              "      <td>0</td>\n",
              "      <td>90.380931</td>\n",
              "      <td>22.437184</td>\n",
              "      <td>41.6</td>\n",
              "      <td>12.8</td>\n",
              "      <td>0.00</td>\n",
              "      <td>2.3</td>\n",
              "      <td>1.7</td>\n",
              "      <td>12.7</td>\n",
              "      <td>19.1</td>\n",
              "      <td>...</td>\n",
              "      <td>0.00</td>\n",
              "      <td>147</td>\n",
              "      <td>2</td>\n",
              "      <td>27970.983100</td>\n",
              "      <td>3691.746950</td>\n",
              "      <td>1</td>\n",
              "      <td>Bangladesh</td>\n",
              "      <td>False</td>\n",
              "      <td>True</td>\n",
              "      <td>False</td>\n",
              "    </tr>\n",
              "    <tr>\n",
              "      <th>1</th>\n",
              "      <td>1</td>\n",
              "      <td>87.854975</td>\n",
              "      <td>22.986757</td>\n",
              "      <td>40.5</td>\n",
              "      <td>13.3</td>\n",
              "      <td>0.00</td>\n",
              "      <td>2.4</td>\n",
              "      <td>0.0</td>\n",
              "      <td>13.2</td>\n",
              "      <td>19.8</td>\n",
              "      <td>...</td>\n",
              "      <td>0.00</td>\n",
              "      <td>145</td>\n",
              "      <td>2</td>\n",
              "      <td>25063.646690</td>\n",
              "      <td>671.326701</td>\n",
              "      <td>1</td>\n",
              "      <td>India</td>\n",
              "      <td>False</td>\n",
              "      <td>True</td>\n",
              "      <td>False</td>\n",
              "    </tr>\n",
              "    <tr>\n",
              "      <th>2</th>\n",
              "      <td>2</td>\n",
              "      <td>85.279935</td>\n",
              "      <td>23.610181</td>\n",
              "      <td>27.3</td>\n",
              "      <td>13.6</td>\n",
              "      <td>0.08</td>\n",
              "      <td>2.3</td>\n",
              "      <td>0.6</td>\n",
              "      <td>9.4</td>\n",
              "      <td>16.2</td>\n",
              "      <td>...</td>\n",
              "      <td>0.98</td>\n",
              "      <td>158</td>\n",
              "      <td>2</td>\n",
              "      <td>6038.477155</td>\n",
              "      <td>1426.839831</td>\n",
              "      <td>1</td>\n",
              "      <td>India</td>\n",
              "      <td>False</td>\n",
              "      <td>True</td>\n",
              "      <td>False</td>\n",
              "    </tr>\n",
              "    <tr>\n",
              "      <th>3</th>\n",
              "      <td>3</td>\n",
              "      <td>81.564510</td>\n",
              "      <td>43.882221</td>\n",
              "      <td>45.3</td>\n",
              "      <td>12.8</td>\n",
              "      <td>31.00</td>\n",
              "      <td>0.4</td>\n",
              "      <td>8.8</td>\n",
              "      <td>-22.5</td>\n",
              "      <td>-16.1</td>\n",
              "      <td>...</td>\n",
              "      <td>4.64</td>\n",
              "      <td>178</td>\n",
              "      <td>2</td>\n",
              "      <td>760.703340</td>\n",
              "      <td>0.000000</td>\n",
              "      <td>1</td>\n",
              "      <td>China</td>\n",
              "      <td>False</td>\n",
              "      <td>True</td>\n",
              "      <td>False</td>\n",
              "    </tr>\n",
              "    <tr>\n",
              "      <th>4</th>\n",
              "      <td>4</td>\n",
              "      <td>81.161057</td>\n",
              "      <td>43.834976</td>\n",
              "      <td>38.8</td>\n",
              "      <td>13.2</td>\n",
              "      <td>31.00</td>\n",
              "      <td>0.4</td>\n",
              "      <td>10.5</td>\n",
              "      <td>-20.4</td>\n",
              "      <td>-13.8</td>\n",
              "      <td>...</td>\n",
              "      <td>1.69</td>\n",
              "      <td>185</td>\n",
              "      <td>3</td>\n",
              "      <td>270.367426</td>\n",
              "      <td>0.000000</td>\n",
              "      <td>1</td>\n",
              "      <td>China</td>\n",
              "      <td>False</td>\n",
              "      <td>True</td>\n",
              "      <td>False</td>\n",
              "    </tr>\n",
              "  </tbody>\n",
              "</table>\n",
              "<p>5 rows × 22 columns</p>\n",
              "</div>"
            ],
            "text/plain": [
              "   Unnamed: 0  longitude        lat  cloud_cover  diurnal_temperature_range  \\\n",
              "0           0  90.380931  22.437184         41.6                       12.8   \n",
              "1           1  87.854975  22.986757         40.5                       13.3   \n",
              "2           2  85.279935  23.610181         27.3                       13.6   \n",
              "3           3  81.564510  43.882221         45.3                       12.8   \n",
              "4           4  81.161057  43.834976         38.8                       13.2   \n",
              "\n",
              "   frost_day_frequency  evapotranspiration  precipitation   tmn   tmp  ...  \\\n",
              "0                 0.00                 2.3            1.7  12.7  19.1  ...   \n",
              "1                 0.00                 2.4            0.0  13.2  19.8  ...   \n",
              "2                 0.08                 2.3            0.6   9.4  16.2  ...   \n",
              "3                31.00                 0.4            8.8 -22.5 -16.1  ...   \n",
              "4                31.00                 0.4           10.5 -20.4 -13.8  ...   \n",
              "\n",
              "   wet_day  elevation  dominant_land_cover  X5_Ct_2010_Da  X5_Bf_2010_Da  \\\n",
              "0     0.00        147                    2   27970.983100    3691.746950   \n",
              "1     0.00        145                    2   25063.646690     671.326701   \n",
              "2     0.98        158                    2    6038.477155    1426.839831   \n",
              "3     4.64        178                    2     760.703340       0.000000   \n",
              "4     1.69        185                    3     270.367426       0.000000   \n",
              "\n",
              "   lumpy     country  region_Africa region_Asia  region_Europe  \n",
              "0      1  Bangladesh          False        True          False  \n",
              "1      1       India          False        True          False  \n",
              "2      1       India          False        True          False  \n",
              "3      1       China          False        True          False  \n",
              "4      1       China          False        True          False  \n",
              "\n",
              "[5 rows x 22 columns]"
            ]
          },
          "execution_count": 42,
          "metadata": {},
          "output_type": "execute_result"
        }
      ],
      "source": [
        "real_df.head()"
      ]
    },
    {
      "cell_type": "code",
      "execution_count": 34,
      "metadata": {},
      "outputs": [
        {
          "data": {
            "text/plain": [
              "Index(['Unnamed: 0', 'longitude', 'lat', 'cloud_cover',\n",
              "       'diurnal_temperature_range', 'frost_day_frequency',\n",
              "       'evapotranspiration', 'precipitation', 'tmn', 'tmp', 'tmx', 'vap',\n",
              "       'wet_day', 'elevation', 'dominant_land_cover', 'X5_Ct_2010_Da',\n",
              "       'X5_Bf_2010_Da', 'lumpy', 'country', 'region_Africa', 'region_Asia',\n",
              "       'region_Europe'],\n",
              "      dtype='object')"
            ]
          },
          "execution_count": 34,
          "metadata": {},
          "output_type": "execute_result"
        }
      ],
      "source": [
        "real_df.columns"
      ]
    },
    {
      "cell_type": "markdown",
      "metadata": {},
      "source": [
        "'cloud_cover',\n",
        "       'diurnal_temperature_range', 'frost_day_frequency',\n",
        "       'evapotranspiration', 'precipitation', 'tmn', 'tmp', 'tmx', 'vap',\n",
        "       'wet_day', 'elevation', 'dominant_land_cover','region_Africa', 'region_Asia',\n",
        "       'region_Europe'"
      ]
    },
    {
      "cell_type": "code",
      "execution_count": 45,
      "metadata": {},
      "outputs": [],
      "source": [
        "model = pickle.load(open('model.pkl','rb'))\n",
        "scale = pickle.load(open('scale.pkl','rb'))"
      ]
    },
    {
      "cell_type": "code",
      "execution_count": null,
      "metadata": {},
      "outputs": [],
      "source": []
    },
    {
      "cell_type": "code",
      "execution_count": 60,
      "metadata": {},
      "outputs": [],
      "source": [
        "scaled =scale.fit_transform([['41.6','12.8','0.00','2.3','1.7','12.7','19.1','25.5','15.7','0.00','147','2','0','1','0']])"
      ]
    },
    {
      "cell_type": "code",
      "execution_count": 159,
      "metadata": {},
      "outputs": [
        {
          "name": "stdout",
          "output_type": "stream",
          "text": [
            "[0]\n"
          ]
        }
      ],
      "source": [
        "model_predict = model.predict(ct.transform([['41.6','12.8','0.00','2.3','1.7','12.7','19.1','25.5','15.7','0.00','147','2','Europe']]))\n",
        "print(model_predict)"
      ]
    },
    {
      "cell_type": "markdown",
      "metadata": {},
      "source": [
        "We now choose another classification algorithm. In the below KNN algorithm we can the best number of neighbours for this dataset is 3."
      ]
    },
    {
      "cell_type": "code",
      "execution_count": null,
      "metadata": {
        "colab": {
          "base_uri": "https://localhost:8080/",
          "height": 427
        },
        "id": "LdRu8G8rffj8",
        "outputId": "a9810e1f-941c-45c7-fba0-99b80f563b00"
      },
      "outputs": [
        {
          "data": {
            "text/plain": [
              "Text(0, 0.5, 'Error Rate')"
            ]
          },
          "execution_count": 82,
          "metadata": {},
          "output_type": "execute_result"
        },
        {
          "data": {
            "image/png": "[encoded data removed]",
            "text/plain": [
              "<Figure size 1000x400 with 1 Axes>"
            ]
          },
          "metadata": {},
          "output_type": "display_data"
        }
      ],
      "source": [
        "# import numpy\n",
        "import numpy as np\n",
        "error_rate = []\n",
        "# searching k value upto  40\n",
        "for i in range(1,40):\n",
        "    # knn algorithm\n",
        "    knn = KNeighborsClassifier(n_neighbors=i)\n",
        "    knn.fit(rescaledX_train, yTrain)\n",
        "    # testing the model\n",
        "    y_pred_test_knn = knn.predict(rescaledX_test)\n",
        "    #training the model\n",
        "    y_pred_train_knn = knn.predict(rescaledX_train)\n",
        "\n",
        "    error_rate.append(np.mean(y_pred_test_knn != yTest))\n",
        "# Configure and plot error rate over k values\n",
        "plt.figure(figsize=(10,4))\n",
        "plt.plot(range(1,40), error_rate, color='blue', linestyle='dashed', marker='o', markerfacecolor='red', markersize=10)\n",
        "plt.title('Error Rate vs. K-Values')\n",
        "plt.xlabel('K-Values')\n",
        "plt.ylabel('Error Rate')"
      ]
    },
    {
      "cell_type": "markdown",
      "metadata": {},
      "source": [
        "Accuracy score of the above model is calculated below."
      ]
    },
    {
      "cell_type": "code",
      "execution_count": null,
      "metadata": {
        "colab": {
          "base_uri": "https://localhost:8080/"
        },
        "id": "iN-d-3qZk9Tv",
        "outputId": "bb64a5bb-12dd-4346-b5a8-19d82b479ae7"
      },
      "outputs": [
        {
          "name": "stdout",
          "output_type": "stream",
          "text": [
            "Train score: 0.9629650961870753 Test score: 0.9587421045558393\n",
            "39 Train score: 0.9629650961870753 Test score: 0.9587421045558393\n"
          ]
        }
      ],
      "source": [
        "test_acc_knn = accuracy_score(yTest, y_pred_test_knn)\n",
        "train_acc_knn = accuracy_score(yTrain,y_pred_train_knn)\n",
        "print('Train score:',train_acc_knn,'Test score:',test_acc_knn)\n",
        "print(i,'Train score:',train_acc_knn,'Test score:',test_acc_knn)"
      ]
    },
    {
      "cell_type": "markdown",
      "metadata": {},
      "source": [
        "We choose decision tree classifier as another classification model for this dataset."
      ]
    },
    {
      "cell_type": "code",
      "execution_count": null,
      "metadata": {
        "colab": {
          "base_uri": "https://localhost:8080/"
        },
        "id": "VKJIEe6uqjaj",
        "outputId": "6ebaedde-2209-46be-cf23-c6b83cf707f2"
      },
      "outputs": [
        {
          "name": "stdout",
          "output_type": "stream",
          "text": [
            "1 Train score: 0.9000115194102062 Test score: 0.8955785512699906\n",
            "2 Train score: 0.9206888607303306 Test score: 0.9160059131837118\n",
            "3 Train score: 0.9517912682870637 Test score: 0.9482596425211665\n",
            "4 Train score: 0.9606036170948048 Test score: 0.9563230748555301\n",
            "5 Train score: 0.9634258725953231 Test score: 0.9571294180889666\n",
            "6 Train score: 0.9670544868102753 Test score: 0.9600860099448999\n",
            "7 Train score: 0.9708558921783205 Test score: 0.9610267437172423\n",
            "8 Train score: 0.9752908651077065 Test score: 0.9623706491063029\n",
            "9 Train score: 0.9785162999654418 Test score: 0.9641177261120817\n"
          ]
        }
      ],
      "source": [
        "test_acc=[]\n",
        "list_score=[]\n",
        "\n",
        "\n",
        "for i in range(1, 10):\n",
        "    dtc = DecisionTreeClassifier(max_depth = i ,random_state = 0)\n",
        "    dtc.fit(xTrain, yTrain)\n",
        "    train_pred = dtc.predict(xTrain)\n",
        "    test_pred = dtc.predict(xTest)\n",
        "    test_acc = accuracy_score(yTest, test_pred)\n",
        "    train_acc = accuracy_score(yTrain, train_pred)\n",
        "    print(i,'Train score:',train_acc,'Test score:',test_acc)\n",
        "    list_score.append([i,accuracy_score(train_pred, yTrain),accuracy_score(test_pred, yTest)])\n",
        "\n"
      ]
    },
    {
      "cell_type": "markdown",
      "metadata": {},
      "source": [
        "A lineplot explaining the accuracy and the depth on the test and train models."
      ]
    },
    {
      "cell_type": "code",
      "execution_count": null,
      "metadata": {
        "colab": {
          "base_uri": "https://localhost:8080/",
          "height": 466
        },
        "id": "Mkmu-e-0sEAD",
        "outputId": "a7f726bc-7484-4f2d-fd16-5af347c6b20f"
      },
      "outputs": [
        {
          "data": {
            "text/plain": [
              "<matplotlib.legend.Legend at 0x7fdfab173580>"
            ]
          },
          "execution_count": 85,
          "metadata": {},
          "output_type": "execute_result"
        },
        {
          "data": {
            "image/png": "[encoded data removed]",
            "text/plain": [
              "<Figure size 640x480 with 1 Axes>"
            ]
          },
          "metadata": {},
          "output_type": "display_data"
        }
      ],
      "source": [
        "df2 = DataFrame (list_score,columns=['Depth','Train Accuracy','Test Accuracy'])\n",
        "plt.plot(df2['Depth'],df2['Test Accuracy'],label='Test Accuracy')\n",
        "plt.plot(df2['Depth'],df2['Train Accuracy'],label='Train Accuracy')\n",
        "plt.xlabel('Depth')\n",
        "plt.ylabel('Accuracy')\n",
        "plt.legend()"
      ]
    },
    {
      "cell_type": "markdown",
      "metadata": {},
      "source": [
        "Finally we use XGBoost classifier as our last model."
      ]
    },
    {
      "cell_type": "code",
      "execution_count": null,
      "metadata": {
        "colab": {
          "base_uri": "https://localhost:8080/"
        },
        "id": "u0U06B2ZvIFw",
        "outputId": "542325f1-c947-4925-dc99-667a3e37487d"
      },
      "outputs": [
        {
          "name": "stdout",
          "output_type": "stream",
          "text": [
            "Train score: 0.9838152286602926 Test score: 0.9702996909017605\n"
          ]
        }
      ],
      "source": [
        "model = XGBClassifier()\n",
        "model.fit(xTrain, yTrain)\n",
        "y_pred_train_xg= model.predict(xTrain)\n",
        "y_pred_test_xg = model.predict(xTest)\n",
        "test_acc = accuracy_score(yTest, y_pred_test_xg)\n",
        "train_acc = accuracy_score(yTrain, y_pred_train_xg)\n",
        "print('Train score:',train_acc,'Test score:',test_acc)"
      ]
    }
  ],
  "metadata": {
    "colab": {
      "provenance": []
    },
    "kernelspec": {
      "display_name": "Python 3",
      "name": "python3"
    },
    "language_info": {
      "codemirror_mode": {
        "name": "ipython",
        "version": 3
      },
      "file_extension": ".py",
      "mimetype": "text/x-python",
      "name": "python",
      "nbconvert_exporter": "python",
      "pygments_lexer": "ipython3",
      "version": "3.11.4"
    }
  },
  "nbformat": 4,
  "nbformat_minor": 0
}
